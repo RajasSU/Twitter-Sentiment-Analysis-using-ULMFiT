{
  "nbformat": 4,
  "nbformat_minor": 0,
  "metadata": {
    "colab": {
      "name": "Twitter Sentiment Analysis using ULMFiT.ipynb",
      "provenance": [],
      "collapsed_sections": [],
      "toc_visible": true
    },
    "kernelspec": {
      "name": "python3",
      "display_name": "Python 3"
    },
    "accelerator": "GPU"
  },
  "cells": [
    {
      "cell_type": "markdown",
      "metadata": {
        "id": "lP6JLo1tGNBg",
        "colab_type": "text"
      },
      "source": [
        "# Twitter Sentiment Analysis using ULMFiT\n",
        "\n"
      ]
    },
    {
      "cell_type": "markdown",
      "metadata": {
        "id": "6LejWzvMdldz",
        "colab_type": "text"
      },
      "source": [
        "## Problem Description"
      ]
    },
    {
      "cell_type": "markdown",
      "metadata": {
        "id": "G7k_O-c4dsJk",
        "colab_type": "text"
      },
      "source": [
        "A sentiment analysis job has to be done regarding the problems of each major U.S. airline and contributors. We have to first classify positive, negative and neutral tweets, and then categorize the negative tweets according to the reasons provided i.e. \"late flight\" or \"rude service\". This problem along with the tataset is available on Kaggle: https://www.kaggle.com/crowdflower/twitter-airline-sentiment\n",
        "\n",
        "We have to apply a  supervised or semi-supervised ULMFiT model to the Twitter US Airlines Sentiment. We will follow the ULMFiT approach of Howard, and Ruder presented in the paper: https://arxiv.org/pdf/1801.06146.pdf. ULMFit stands for Universal Language Model Fine-tuning; it is an efficient Transfer Learning approach that can be extended to any NLP function and implements language model fine-tuning techniques."
      ]
    },
    {
      "cell_type": "markdown",
      "metadata": {
        "id": "gWZyYmS_UE_L",
        "colab_type": "text"
      },
      "source": [
        "### Importing the libraries"
      ]
    },
    {
      "cell_type": "code",
      "metadata": {
        "id": "MxkJoQBkUIHC",
        "colab_type": "code",
        "colab": {}
      },
      "source": [
        "import numpy as np\n",
        "import pandas as pd\n",
        "import seaborn as sns\n",
        "import matplotlib.pyplot as plt\n",
        "import tensorflow as tf\n",
        "from fastai.metrics import accuracy\n",
        "from fastai.text import *\n",
        "from fastai import *"
      ],
      "execution_count": null,
      "outputs": []
    },
    {
      "cell_type": "markdown",
      "metadata": {
        "id": "Zi17qnSDrYm4",
        "colab_type": "text"
      },
      "source": [
        "We will check the version of Tensorflow"
      ]
    },
    {
      "cell_type": "code",
      "metadata": {
        "id": "ZaTwK7ojXr2F",
        "colab_type": "code",
        "colab": {
          "base_uri": "https://localhost:8080/",
          "height": 35
        },
        "outputId": "ee66677d-3dd7-4eab-9457-ef727ab45891"
      },
      "source": [
        "tf.__version__"
      ],
      "execution_count": null,
      "outputs": [
        {
          "output_type": "execute_result",
          "data": {
            "application/vnd.google.colaboratory.intrinsic+json": {
              "type": "string"
            },
            "text/plain": [
              "'2.3.0'"
            ]
          },
          "metadata": {
            "tags": []
          },
          "execution_count": 3
        }
      ]
    },
    {
      "cell_type": "markdown",
      "metadata": {
        "id": "1E0Q3aoKUCRX",
        "colab_type": "text"
      },
      "source": [
        "## Part 1 - Data Preprocessing"
      ]
    },
    {
      "cell_type": "markdown",
      "metadata": {
        "id": "cKWAkFVGUU0Z",
        "colab_type": "text"
      },
      "source": [
        "### Importing the dataset"
      ]
    },
    {
      "cell_type": "code",
      "metadata": {
        "id": "aETXeCtPfr4L",
        "colab_type": "code",
        "colab": {
          "base_uri": "https://localhost:8080/",
          "height": 122
        },
        "outputId": "ef1cade8-8cbe-4f43-b152-57a1d7e1e8b8"
      },
      "source": [
        "from google.colab import drive\n",
        "drive.mount('/content/drive')"
      ],
      "execution_count": null,
      "outputs": [
        {
          "output_type": "stream",
          "text": [
            "Go to this URL in a browser: https://accounts.google.com/o/oauth2/auth?client_id=947318989803-6bn6qk8qdgf4n4g3pfee6491hc0brc4i.apps.googleusercontent.com&redirect_uri=urn%3aietf%3awg%3aoauth%3a2.0%3aoob&scope=email%20https%3a%2f%2fwww.googleapis.com%2fauth%2fdocs.test%20https%3a%2f%2fwww.googleapis.com%2fauth%2fdrive%20https%3a%2f%2fwww.googleapis.com%2fauth%2fdrive.photos.readonly%20https%3a%2f%2fwww.googleapis.com%2fauth%2fpeopleapi.readonly&response_type=code\n",
            "\n",
            "Enter your authorization code:\n",
            "··········\n",
            "Mounted at /content/drive\n"
          ],
          "name": "stdout"
        }
      ]
    },
    {
      "cell_type": "code",
      "metadata": {
        "id": "QJLksU5hf2BI",
        "colab_type": "code",
        "colab": {}
      },
      "source": [
        "!cp -r /content/drive/\"My Drive\"/\"ML Datasets\"/Tweets.csv /content"
      ],
      "execution_count": null,
      "outputs": []
    },
    {
      "cell_type": "code",
      "metadata": {
        "id": "MXUkhkMfU4wq",
        "colab_type": "code",
        "colab": {
          "base_uri": "https://localhost:8080/",
          "height": 445
        },
        "outputId": "d40c7a93-bc59-4f44-92d5-8df39b26c476"
      },
      "source": [
        "dataset = pd.read_csv('Tweets.csv')\n",
        "dataset.head()"
      ],
      "execution_count": null,
      "outputs": [
        {
          "output_type": "execute_result",
          "data": {
            "text/html": [
              "<div>\n",
              "<style scoped>\n",
              "    .dataframe tbody tr th:only-of-type {\n",
              "        vertical-align: middle;\n",
              "    }\n",
              "\n",
              "    .dataframe tbody tr th {\n",
              "        vertical-align: top;\n",
              "    }\n",
              "\n",
              "    .dataframe thead th {\n",
              "        text-align: right;\n",
              "    }\n",
              "</style>\n",
              "<table border=\"1\" class=\"dataframe\">\n",
              "  <thead>\n",
              "    <tr style=\"text-align: right;\">\n",
              "      <th></th>\n",
              "      <th>tweet_id</th>\n",
              "      <th>airline_sentiment</th>\n",
              "      <th>airline_sentiment_confidence</th>\n",
              "      <th>negativereason</th>\n",
              "      <th>negativereason_confidence</th>\n",
              "      <th>airline</th>\n",
              "      <th>airline_sentiment_gold</th>\n",
              "      <th>name</th>\n",
              "      <th>negativereason_gold</th>\n",
              "      <th>retweet_count</th>\n",
              "      <th>text</th>\n",
              "      <th>tweet_coord</th>\n",
              "      <th>tweet_created</th>\n",
              "      <th>tweet_location</th>\n",
              "      <th>user_timezone</th>\n",
              "    </tr>\n",
              "  </thead>\n",
              "  <tbody>\n",
              "    <tr>\n",
              "      <th>0</th>\n",
              "      <td>570306133677760513</td>\n",
              "      <td>neutral</td>\n",
              "      <td>1.0000</td>\n",
              "      <td>NaN</td>\n",
              "      <td>NaN</td>\n",
              "      <td>Virgin America</td>\n",
              "      <td>NaN</td>\n",
              "      <td>cairdin</td>\n",
              "      <td>NaN</td>\n",
              "      <td>0</td>\n",
              "      <td>@VirginAmerica What @dhepburn said.</td>\n",
              "      <td>NaN</td>\n",
              "      <td>2015-02-24 11:35:52 -0800</td>\n",
              "      <td>NaN</td>\n",
              "      <td>Eastern Time (US &amp; Canada)</td>\n",
              "    </tr>\n",
              "    <tr>\n",
              "      <th>1</th>\n",
              "      <td>570301130888122368</td>\n",
              "      <td>positive</td>\n",
              "      <td>0.3486</td>\n",
              "      <td>NaN</td>\n",
              "      <td>0.0000</td>\n",
              "      <td>Virgin America</td>\n",
              "      <td>NaN</td>\n",
              "      <td>jnardino</td>\n",
              "      <td>NaN</td>\n",
              "      <td>0</td>\n",
              "      <td>@VirginAmerica plus you've added commercials t...</td>\n",
              "      <td>NaN</td>\n",
              "      <td>2015-02-24 11:15:59 -0800</td>\n",
              "      <td>NaN</td>\n",
              "      <td>Pacific Time (US &amp; Canada)</td>\n",
              "    </tr>\n",
              "    <tr>\n",
              "      <th>2</th>\n",
              "      <td>570301083672813571</td>\n",
              "      <td>neutral</td>\n",
              "      <td>0.6837</td>\n",
              "      <td>NaN</td>\n",
              "      <td>NaN</td>\n",
              "      <td>Virgin America</td>\n",
              "      <td>NaN</td>\n",
              "      <td>yvonnalynn</td>\n",
              "      <td>NaN</td>\n",
              "      <td>0</td>\n",
              "      <td>@VirginAmerica I didn't today... Must mean I n...</td>\n",
              "      <td>NaN</td>\n",
              "      <td>2015-02-24 11:15:48 -0800</td>\n",
              "      <td>Lets Play</td>\n",
              "      <td>Central Time (US &amp; Canada)</td>\n",
              "    </tr>\n",
              "    <tr>\n",
              "      <th>3</th>\n",
              "      <td>570301031407624196</td>\n",
              "      <td>negative</td>\n",
              "      <td>1.0000</td>\n",
              "      <td>Bad Flight</td>\n",
              "      <td>0.7033</td>\n",
              "      <td>Virgin America</td>\n",
              "      <td>NaN</td>\n",
              "      <td>jnardino</td>\n",
              "      <td>NaN</td>\n",
              "      <td>0</td>\n",
              "      <td>@VirginAmerica it's really aggressive to blast...</td>\n",
              "      <td>NaN</td>\n",
              "      <td>2015-02-24 11:15:36 -0800</td>\n",
              "      <td>NaN</td>\n",
              "      <td>Pacific Time (US &amp; Canada)</td>\n",
              "    </tr>\n",
              "    <tr>\n",
              "      <th>4</th>\n",
              "      <td>570300817074462722</td>\n",
              "      <td>negative</td>\n",
              "      <td>1.0000</td>\n",
              "      <td>Can't Tell</td>\n",
              "      <td>1.0000</td>\n",
              "      <td>Virgin America</td>\n",
              "      <td>NaN</td>\n",
              "      <td>jnardino</td>\n",
              "      <td>NaN</td>\n",
              "      <td>0</td>\n",
              "      <td>@VirginAmerica and it's a really big bad thing...</td>\n",
              "      <td>NaN</td>\n",
              "      <td>2015-02-24 11:14:45 -0800</td>\n",
              "      <td>NaN</td>\n",
              "      <td>Pacific Time (US &amp; Canada)</td>\n",
              "    </tr>\n",
              "  </tbody>\n",
              "</table>\n",
              "</div>"
            ],
            "text/plain": [
              "             tweet_id  ...               user_timezone\n",
              "0  570306133677760513  ...  Eastern Time (US & Canada)\n",
              "1  570301130888122368  ...  Pacific Time (US & Canada)\n",
              "2  570301083672813571  ...  Central Time (US & Canada)\n",
              "3  570301031407624196  ...  Pacific Time (US & Canada)\n",
              "4  570300817074462722  ...  Pacific Time (US & Canada)\n",
              "\n",
              "[5 rows x 15 columns]"
            ]
          },
          "metadata": {
            "tags": []
          },
          "execution_count": 140
        }
      ]
    },
    {
      "cell_type": "markdown",
      "metadata": {
        "id": "z67YbnCfNUyH",
        "colab_type": "text"
      },
      "source": [
        "The first step will be to determine the shape or structure of the data frame and then check the number of null values in each column.\n"
      ]
    },
    {
      "cell_type": "code",
      "metadata": {
        "id": "tCYqOULCDuYQ",
        "colab_type": "code",
        "colab": {
          "base_uri": "https://localhost:8080/",
          "height": 34
        },
        "outputId": "277f27e0-58ef-4430-c413-cc0a203eea77"
      },
      "source": [
        "print('Shape: ', dataset.shape)"
      ],
      "execution_count": null,
      "outputs": [
        {
          "output_type": "stream",
          "text": [
            "Shape:  (14640, 15)\n"
          ],
          "name": "stdout"
        }
      ]
    },
    {
      "cell_type": "markdown",
      "metadata": {
        "id": "rsrYcN6FNsC9",
        "colab_type": "text"
      },
      "source": [
        "Next, we will identify the different datatypes present in our dataset"
      ]
    },
    {
      "cell_type": "code",
      "metadata": {
        "id": "QEiO-aqSCTGy",
        "colab_type": "code",
        "colab": {
          "base_uri": "https://localhost:8080/",
          "height": 289
        },
        "outputId": "ee9e96a1-3a21-4fcd-dcf7-db83c4b1f12d"
      },
      "source": [
        "dataset.dtypes"
      ],
      "execution_count": null,
      "outputs": [
        {
          "output_type": "execute_result",
          "data": {
            "text/plain": [
              "tweet_id                          int64\n",
              "airline_sentiment                object\n",
              "airline_sentiment_confidence    float64\n",
              "negativereason                   object\n",
              "negativereason_confidence       float64\n",
              "airline                          object\n",
              "airline_sentiment_gold           object\n",
              "name                             object\n",
              "negativereason_gold              object\n",
              "retweet_count                     int64\n",
              "text                             object\n",
              "tweet_coord                      object\n",
              "tweet_created                    object\n",
              "tweet_location                   object\n",
              "user_timezone                    object\n",
              "dtype: object"
            ]
          },
          "metadata": {
            "tags": []
          },
          "execution_count": 7
        }
      ]
    },
    {
      "cell_type": "markdown",
      "metadata": {
        "id": "mrtDp2LWs-yh",
        "colab_type": "text"
      },
      "source": [
        "### Handling the missing values"
      ]
    },
    {
      "cell_type": "markdown",
      "metadata": {
        "id": "hEtGCgkTt6xt",
        "colab_type": "text"
      },
      "source": [
        "We will first identify how many missing values are present in the dataset. In this way, we can understand the redundant or unnecessary columns in the data set, depending on which column has the maximum number of null values."
      ]
    },
    {
      "cell_type": "code",
      "metadata": {
        "id": "rqMVBCkDtmXv",
        "colab_type": "code",
        "colab": {
          "base_uri": "https://localhost:8080/",
          "height": 306
        },
        "outputId": "702a40fb-853a-4131-9a45-90ccca8da690"
      },
      "source": [
        "print(\"The number of nulls in each column are \\n\", dataset.isna().sum())"
      ],
      "execution_count": null,
      "outputs": [
        {
          "output_type": "stream",
          "text": [
            "The number of nulls in each column are \n",
            " tweet_id                            0\n",
            "airline_sentiment                   0\n",
            "airline_sentiment_confidence        0\n",
            "negativereason                   5462\n",
            "negativereason_confidence        4118\n",
            "airline                             0\n",
            "airline_sentiment_gold          14600\n",
            "name                                0\n",
            "negativereason_gold             14608\n",
            "retweet_count                       0\n",
            "text                                0\n",
            "tweet_coord                     13621\n",
            "tweet_created                       0\n",
            "tweet_location                   4733\n",
            "user_timezone                    4820\n",
            "dtype: int64\n"
          ],
          "name": "stdout"
        }
      ]
    },
    {
      "cell_type": "markdown",
      "metadata": {
        "id": "4X5WqQBRQZSQ",
        "colab_type": "text"
      },
      "source": [
        "In order to get a better estimate and analyze it efficiently, we will calculate the percentage of null values or NA values in each column."
      ]
    },
    {
      "cell_type": "code",
      "metadata": {
        "id": "W7pRbOZrQbCf",
        "colab_type": "code",
        "colab": {
          "base_uri": "https://localhost:8080/",
          "height": 306
        },
        "outputId": "e7b792bf-b64f-4d47-d1db-52112beaf2e1"
      },
      "source": [
        "print(\"The percentage of null or NA values in dataset\")\n",
        "((dataset.isnull() | dataset.isna()).sum() * 100 / dataset.index.size).round(2)"
      ],
      "execution_count": null,
      "outputs": [
        {
          "output_type": "stream",
          "text": [
            "The percentage of null or NA values in dataset\n"
          ],
          "name": "stdout"
        },
        {
          "output_type": "execute_result",
          "data": {
            "text/plain": [
              "tweet_id                         0.00\n",
              "airline_sentiment                0.00\n",
              "airline_sentiment_confidence     0.00\n",
              "negativereason                  37.31\n",
              "negativereason_confidence       28.13\n",
              "airline                          0.00\n",
              "airline_sentiment_gold          99.73\n",
              "name                             0.00\n",
              "negativereason_gold             99.78\n",
              "retweet_count                    0.00\n",
              "text                             0.00\n",
              "tweet_coord                     93.04\n",
              "tweet_created                    0.00\n",
              "tweet_location                  32.33\n",
              "user_timezone                   32.92\n",
              "dtype: float64"
            ]
          },
          "metadata": {
            "tags": []
          },
          "execution_count": 9
        }
      ]
    },
    {
      "cell_type": "markdown",
      "metadata": {
        "id": "tKQ5EVMGRsgO",
        "colab_type": "text"
      },
      "source": [
        "So now it is evident that 90% of data of the columns tweet_coord , airline_sentiment_gold, negativereason_gold is missing. Hence, it would be better to delete these columns because they will not provide any useful information on our model."
      ]
    },
    {
      "cell_type": "code",
      "metadata": {
        "id": "uQN9xm7wR-9W",
        "colab_type": "code",
        "colab": {
          "base_uri": "https://localhost:8080/",
          "height": 445
        },
        "outputId": "1577be81-0b05-40dc-a245-17634a00094d"
      },
      "source": [
        "dataset.drop([\"tweet_coord\", \"airline_sentiment_gold\", \"negativereason_gold\"],axis=1, inplace = True)\n",
        "dataset.head()"
      ],
      "execution_count": null,
      "outputs": [
        {
          "output_type": "execute_result",
          "data": {
            "text/html": [
              "<div>\n",
              "<style scoped>\n",
              "    .dataframe tbody tr th:only-of-type {\n",
              "        vertical-align: middle;\n",
              "    }\n",
              "\n",
              "    .dataframe tbody tr th {\n",
              "        vertical-align: top;\n",
              "    }\n",
              "\n",
              "    .dataframe thead th {\n",
              "        text-align: right;\n",
              "    }\n",
              "</style>\n",
              "<table border=\"1\" class=\"dataframe\">\n",
              "  <thead>\n",
              "    <tr style=\"text-align: right;\">\n",
              "      <th></th>\n",
              "      <th>tweet_id</th>\n",
              "      <th>airline_sentiment</th>\n",
              "      <th>airline_sentiment_confidence</th>\n",
              "      <th>negativereason</th>\n",
              "      <th>negativereason_confidence</th>\n",
              "      <th>airline</th>\n",
              "      <th>name</th>\n",
              "      <th>retweet_count</th>\n",
              "      <th>text</th>\n",
              "      <th>tweet_created</th>\n",
              "      <th>tweet_location</th>\n",
              "      <th>user_timezone</th>\n",
              "    </tr>\n",
              "  </thead>\n",
              "  <tbody>\n",
              "    <tr>\n",
              "      <th>0</th>\n",
              "      <td>570306133677760513</td>\n",
              "      <td>neutral</td>\n",
              "      <td>1.0000</td>\n",
              "      <td>NaN</td>\n",
              "      <td>NaN</td>\n",
              "      <td>Virgin America</td>\n",
              "      <td>cairdin</td>\n",
              "      <td>0</td>\n",
              "      <td>@VirginAmerica What @dhepburn said.</td>\n",
              "      <td>2015-02-24 11:35:52 -0800</td>\n",
              "      <td>NaN</td>\n",
              "      <td>Eastern Time (US &amp; Canada)</td>\n",
              "    </tr>\n",
              "    <tr>\n",
              "      <th>1</th>\n",
              "      <td>570301130888122368</td>\n",
              "      <td>positive</td>\n",
              "      <td>0.3486</td>\n",
              "      <td>NaN</td>\n",
              "      <td>0.0000</td>\n",
              "      <td>Virgin America</td>\n",
              "      <td>jnardino</td>\n",
              "      <td>0</td>\n",
              "      <td>@VirginAmerica plus you've added commercials t...</td>\n",
              "      <td>2015-02-24 11:15:59 -0800</td>\n",
              "      <td>NaN</td>\n",
              "      <td>Pacific Time (US &amp; Canada)</td>\n",
              "    </tr>\n",
              "    <tr>\n",
              "      <th>2</th>\n",
              "      <td>570301083672813571</td>\n",
              "      <td>neutral</td>\n",
              "      <td>0.6837</td>\n",
              "      <td>NaN</td>\n",
              "      <td>NaN</td>\n",
              "      <td>Virgin America</td>\n",
              "      <td>yvonnalynn</td>\n",
              "      <td>0</td>\n",
              "      <td>@VirginAmerica I didn't today... Must mean I n...</td>\n",
              "      <td>2015-02-24 11:15:48 -0800</td>\n",
              "      <td>Lets Play</td>\n",
              "      <td>Central Time (US &amp; Canada)</td>\n",
              "    </tr>\n",
              "    <tr>\n",
              "      <th>3</th>\n",
              "      <td>570301031407624196</td>\n",
              "      <td>negative</td>\n",
              "      <td>1.0000</td>\n",
              "      <td>Bad Flight</td>\n",
              "      <td>0.7033</td>\n",
              "      <td>Virgin America</td>\n",
              "      <td>jnardino</td>\n",
              "      <td>0</td>\n",
              "      <td>@VirginAmerica it's really aggressive to blast...</td>\n",
              "      <td>2015-02-24 11:15:36 -0800</td>\n",
              "      <td>NaN</td>\n",
              "      <td>Pacific Time (US &amp; Canada)</td>\n",
              "    </tr>\n",
              "    <tr>\n",
              "      <th>4</th>\n",
              "      <td>570300817074462722</td>\n",
              "      <td>negative</td>\n",
              "      <td>1.0000</td>\n",
              "      <td>Can't Tell</td>\n",
              "      <td>1.0000</td>\n",
              "      <td>Virgin America</td>\n",
              "      <td>jnardino</td>\n",
              "      <td>0</td>\n",
              "      <td>@VirginAmerica and it's a really big bad thing...</td>\n",
              "      <td>2015-02-24 11:14:45 -0800</td>\n",
              "      <td>NaN</td>\n",
              "      <td>Pacific Time (US &amp; Canada)</td>\n",
              "    </tr>\n",
              "  </tbody>\n",
              "</table>\n",
              "</div>"
            ],
            "text/plain": [
              "             tweet_id  ...               user_timezone\n",
              "0  570306133677760513  ...  Eastern Time (US & Canada)\n",
              "1  570301130888122368  ...  Pacific Time (US & Canada)\n",
              "2  570301083672813571  ...  Central Time (US & Canada)\n",
              "3  570301031407624196  ...  Pacific Time (US & Canada)\n",
              "4  570300817074462722  ...  Pacific Time (US & Canada)\n",
              "\n",
              "[5 rows x 12 columns]"
            ]
          },
          "metadata": {
            "tags": []
          },
          "execution_count": 141
        }
      ]
    },
    {
      "cell_type": "markdown",
      "metadata": {
        "id": "bXw1BO_WXAEi",
        "colab_type": "text"
      },
      "source": [
        "### Data Visualization"
      ]
    },
    {
      "cell_type": "markdown",
      "metadata": {
        "id": "aq-eDZJ4XErW",
        "colab_type": "text"
      },
      "source": [
        "First, we will visualize the distribution of the primary dependent variable, which is the airline sentiment, along with its tweet-length and breakdown across airlines."
      ]
    },
    {
      "cell_type": "code",
      "metadata": {
        "id": "n-G2HrzjdSXA",
        "colab_type": "code",
        "colab": {
          "base_uri": "https://localhost:8080/",
          "height": 301
        },
        "outputId": "07b766af-871d-447b-8ee3-bf005ca4b504"
      },
      "source": [
        "sns.set(style=\"whitegrid\")\n",
        "sns.countplot(x=dataset[\"airline_sentiment\"], palette=\"muted\")\n",
        "plt.title(\"Airline Sentiment Distribution\")\n",
        "plt.show()"
      ],
      "execution_count": null,
      "outputs": [
        {
          "output_type": "display_data",
          "data": {
            "image/png": "[encoded data removed]",
            "text/plain": [
              "<Figure size 432x288 with 1 Axes>"
            ]
          },
          "metadata": {
            "tags": []
          }
        }
      ]
    },
    {
      "cell_type": "markdown",
      "metadata": {
        "id": "v3BQwxWzhE8A",
        "colab_type": "text"
      },
      "source": [
        "As we can see, the majority of the comments are negative. Which could mean that people are generally dissatisfied with the service provided by the airline companies."
      ]
    },
    {
      "cell_type": "markdown",
      "metadata": {
        "id": "j68GSQRyhnnv",
        "colab_type": "text"
      },
      "source": [
        "Now we will analyze the distribution of different type of airlines."
      ]
    },
    {
      "cell_type": "code",
      "metadata": {
        "id": "fUmEUhDFhtYC",
        "colab_type": "code",
        "colab": {
          "base_uri": "https://localhost:8080/",
          "height": 355
        },
        "outputId": "f74acf8f-a241-4019-c6f3-e7a8c465b0c7"
      },
      "source": [
        "sns.set(style=\"whitegrid\")\n",
        "plt.figure(figsize=(8,5))\n",
        "sns.countplot(x=dataset[\"airline\"], palette=\"muted\")\n",
        "plt.title(\"Airline Distribution\")\n",
        "plt.show()"
      ],
      "execution_count": null,
      "outputs": [
        {
          "output_type": "display_data",
          "data": {
            "image/png": "[encoded data removed]",
            "text/plain": [
              "<Figure size 576x360 with 1 Axes>"
            ]
          },
          "metadata": {
            "tags": []
          }
        }
      ]
    },
    {
      "cell_type": "markdown",
      "metadata": {
        "id": "owWp462HjQ2R",
        "colab_type": "text"
      },
      "source": [
        "From the above bar graph, it is evident that United Airlines is widely recognized on Twitter. Of course, we do not know if that popularity is positive or negative. Apart from that, the fact that there are very few tweets in Virgin America also gives the impression that perhaps their standard is neither good nor bad."
      ]
    },
    {
      "cell_type": "code",
      "metadata": {
        "id": "w9zySK63jmjY",
        "colab_type": "code",
        "colab": {
          "base_uri": "https://localhost:8080/",
          "height": 355
        },
        "outputId": "9dde5e63-084a-478e-91ae-62368a6f0410"
      },
      "source": [
        "sns.set(style=\"whitegrid\")\n",
        "plt.figure(figsize=(8,5))\n",
        "sns.countplot(x=dataset[\"airline\"], hue=dataset[\"airline_sentiment\"], palette=\"muted\")\n",
        "plt.title(\"Airline Sentiment Distribution For Each Airline\")\n",
        "plt.show()"
      ],
      "execution_count": null,
      "outputs": [
        {
          "output_type": "display_data",
          "data": {
            "image/png": "[encoded data removed]",
            "text/plain": [
              "<Figure size 576x360 with 1 Axes>"
            ]
          },
          "metadata": {
            "tags": []
          }
        }
      ]
    },
    {
      "cell_type": "markdown",
      "metadata": {
        "id": "SFI_N_yylqwr",
        "colab_type": "text"
      },
      "source": [
        "As we can see from the above plot, the airline's sentiments vary significantly depending on the airline. The most positive is Virgin America, while the most negative is United considering the overall sentiment."
      ]
    },
    {
      "cell_type": "markdown",
      "metadata": {
        "id": "VQ01oiCxsC8R",
        "colab_type": "text"
      },
      "source": [
        "Now we will define a new parameter 'tweet_len' which will tell us the length of the tweet present in the 'text' column of out dataset"
      ]
    },
    {
      "cell_type": "code",
      "metadata": {
        "id": "4jRRBZgishU9",
        "colab_type": "code",
        "colab": {
          "base_uri": "https://localhost:8080/",
          "height": 517
        },
        "outputId": "9ad6e28f-5916-4c02-80d7-c45f48d0ad1e"
      },
      "source": [
        "dataset['tweet_len'] = dataset['text'].apply(len)\n",
        "df= dataset.groupby(['tweet_len', 'airline_sentiment']).size().unstack().plot(kind='line', stacked=False)"
      ],
      "execution_count": null,
      "outputs": [
        {
          "output_type": "display_data",
          "data": {
            "image/png": "[encoded data removed]",
            "text/plain": [
              "<Figure size 842.4x595.44 with 1 Axes>"
            ]
          },
          "metadata": {
            "tags": []
          }
        }
      ]
    },
    {
      "cell_type": "markdown",
      "metadata": {
        "id": "7SmQ_FkO1hr9",
        "colab_type": "text"
      },
      "source": [
        "There is not much connection between the amount of positive/neutral tweets and the tweet's duration. However, in the case of negative tweets, the distribution is strongly biased towards longer or longer tweets. This is plausible because angrier the person who tweets, the more he/she has to say."
      ]
    },
    {
      "cell_type": "markdown",
      "metadata": {
        "id": "rC_VKzym_Ewt",
        "colab_type": "text"
      },
      "source": [
        "Now we will analyze the count of different types of Negative Reasons due to which the customers gave a negative tweet."
      ]
    },
    {
      "cell_type": "code",
      "metadata": {
        "id": "p-hphWjQ7P-K",
        "colab_type": "code",
        "colab": {
          "base_uri": "https://localhost:8080/",
          "height": 503
        },
        "outputId": "230f5d49-0cfe-419c-f9f8-c458fb5b0824"
      },
      "source": [
        "sns.set(style=\"whitegrid\")\n",
        "plt.figure(figsize=(20,10))\n",
        "sns.countplot(x=dataset[\"negativereason\"], palette=\"muted\")\n",
        "plt.title(\"Airline Sentiment Distribution For Each Airline\")\n",
        "plt.show()"
      ],
      "execution_count": null,
      "outputs": [
        {
          "output_type": "display_data",
          "data": {
            "image/png": "[encoded data removed]",
            "text/plain": [
              "<Figure size 1440x720 with 1 Axes>"
            ]
          },
          "metadata": {
            "tags": []
          }
        }
      ]
    },
    {
      "cell_type": "markdown",
      "metadata": {
        "id": "qz3bCNy9_S1N",
        "colab_type": "text"
      },
      "source": [
        "As it is evident from the bar graph above, a very massive number of people have given reason for their negative tweet  as bad customer service."
      ]
    },
    {
      "cell_type": "markdown",
      "metadata": {
        "id": "9gj7h4-0lmX6",
        "colab_type": "text"
      },
      "source": [
        "### Text Preprocessing"
      ]
    },
    {
      "cell_type": "markdown",
      "metadata": {
        "id": "BQhJEHSulskX",
        "colab_type": "text"
      },
      "source": [
        "In this section we will process the column named 'Text' which contains the raw text of the tweets posted by customers."
      ]
    },
    {
      "cell_type": "markdown",
      "metadata": {
        "id": "rxupuLdXm9b5",
        "colab_type": "text"
      },
      "source": [
        "We will basically peform the text preprocessing by using the well known nltk library.\n",
        "In order to do this we will import the necessary libraries into out notebook."
      ]
    },
    {
      "cell_type": "code",
      "metadata": {
        "id": "uglEAWX-nMNR",
        "colab_type": "code",
        "colab": {}
      },
      "source": [
        "import nltk\n",
        "import re\n",
        "import sklearn"
      ],
      "execution_count": null,
      "outputs": []
    },
    {
      "cell_type": "markdown",
      "metadata": {
        "id": "m2fKMwGFt6s6",
        "colab_type": "text"
      },
      "source": [
        "We will create a new data frame containing just two column that is Airline_sentiment and text."
      ]
    },
    {
      "cell_type": "code",
      "metadata": {
        "id": "iQz8Ne8UuUD3",
        "colab_type": "code",
        "colab": {
          "base_uri": "https://localhost:8080/",
          "height": 419
        },
        "outputId": "a5950118-7d02-4906-d120-f3ea7c797900"
      },
      "source": [
        "tweet_senti = dataset[['airline_sentiment','text']]\n",
        "tweet_senti"
      ],
      "execution_count": null,
      "outputs": [
        {
          "output_type": "execute_result",
          "data": {
            "text/html": [
              "<div>\n",
              "<style scoped>\n",
              "    .dataframe tbody tr th:only-of-type {\n",
              "        vertical-align: middle;\n",
              "    }\n",
              "\n",
              "    .dataframe tbody tr th {\n",
              "        vertical-align: top;\n",
              "    }\n",
              "\n",
              "    .dataframe thead th {\n",
              "        text-align: right;\n",
              "    }\n",
              "</style>\n",
              "<table border=\"1\" class=\"dataframe\">\n",
              "  <thead>\n",
              "    <tr style=\"text-align: right;\">\n",
              "      <th></th>\n",
              "      <th>airline_sentiment</th>\n",
              "      <th>text</th>\n",
              "    </tr>\n",
              "  </thead>\n",
              "  <tbody>\n",
              "    <tr>\n",
              "      <th>0</th>\n",
              "      <td>neutral</td>\n",
              "      <td>@VirginAmerica What @dhepburn said.</td>\n",
              "    </tr>\n",
              "    <tr>\n",
              "      <th>1</th>\n",
              "      <td>positive</td>\n",
              "      <td>@VirginAmerica plus you've added commercials t...</td>\n",
              "    </tr>\n",
              "    <tr>\n",
              "      <th>2</th>\n",
              "      <td>neutral</td>\n",
              "      <td>@VirginAmerica I didn't today... Must mean I n...</td>\n",
              "    </tr>\n",
              "    <tr>\n",
              "      <th>3</th>\n",
              "      <td>negative</td>\n",
              "      <td>@VirginAmerica it's really aggressive to blast...</td>\n",
              "    </tr>\n",
              "    <tr>\n",
              "      <th>4</th>\n",
              "      <td>negative</td>\n",
              "      <td>@VirginAmerica and it's a really big bad thing...</td>\n",
              "    </tr>\n",
              "    <tr>\n",
              "      <th>...</th>\n",
              "      <td>...</td>\n",
              "      <td>...</td>\n",
              "    </tr>\n",
              "    <tr>\n",
              "      <th>14635</th>\n",
              "      <td>positive</td>\n",
              "      <td>@AmericanAir thank you we got on a different f...</td>\n",
              "    </tr>\n",
              "    <tr>\n",
              "      <th>14636</th>\n",
              "      <td>negative</td>\n",
              "      <td>@AmericanAir leaving over 20 minutes Late Flig...</td>\n",
              "    </tr>\n",
              "    <tr>\n",
              "      <th>14637</th>\n",
              "      <td>neutral</td>\n",
              "      <td>@AmericanAir Please bring American Airlines to...</td>\n",
              "    </tr>\n",
              "    <tr>\n",
              "      <th>14638</th>\n",
              "      <td>negative</td>\n",
              "      <td>@AmericanAir you have my money, you change my ...</td>\n",
              "    </tr>\n",
              "    <tr>\n",
              "      <th>14639</th>\n",
              "      <td>neutral</td>\n",
              "      <td>@AmericanAir we have 8 ppl so we need 2 know h...</td>\n",
              "    </tr>\n",
              "  </tbody>\n",
              "</table>\n",
              "<p>14640 rows × 2 columns</p>\n",
              "</div>"
            ],
            "text/plain": [
              "      airline_sentiment                                               text\n",
              "0               neutral                @VirginAmerica What @dhepburn said.\n",
              "1              positive  @VirginAmerica plus you've added commercials t...\n",
              "2               neutral  @VirginAmerica I didn't today... Must mean I n...\n",
              "3              negative  @VirginAmerica it's really aggressive to blast...\n",
              "4              negative  @VirginAmerica and it's a really big bad thing...\n",
              "...                 ...                                                ...\n",
              "14635          positive  @AmericanAir thank you we got on a different f...\n",
              "14636          negative  @AmericanAir leaving over 20 minutes Late Flig...\n",
              "14637           neutral  @AmericanAir Please bring American Airlines to...\n",
              "14638          negative  @AmericanAir you have my money, you change my ...\n",
              "14639           neutral  @AmericanAir we have 8 ppl so we need 2 know h...\n",
              "\n",
              "[14640 rows x 2 columns]"
            ]
          },
          "metadata": {
            "tags": []
          },
          "execution_count": 192
        }
      ]
    },
    {
      "cell_type": "markdown",
      "metadata": {
        "id": "qpU-XSjIvENA",
        "colab_type": "text"
      },
      "source": [
        "We need to clean the column text.Text cleaning can be done by:\n",
        "1. Converting all the characters in Lowercase.\n",
        "2. Removing characters apart from A-Z and a-z.\n",
        "3. Removing the hashtags #.\n",
        "4. Replacing 'https://' kind of url into simple text 'link' \n",
        "\n",
        "*The class WordNetLemmatizer() is used for Lemmatization. Lemmatization is a process of reducing inflected words to their respective lemmatized words which can be easily understood by human as well(Meaningful Representation.)*\n",
        "\n",
        "We have not applied Lemmatization to the data.\n",
        "\n",
        "In the end, we will create a list 'corpus' where we will store all these tweets.\n"
      ]
    },
    {
      "cell_type": "code",
      "metadata": {
        "id": "3cQq0D5WvWJA",
        "colab_type": "code",
        "colab": {
          "base_uri": "https://localhost:8080/",
          "height": 85
        },
        "outputId": "8293a717-2d77-46ca-9085-9f41d11b1bb5"
      },
      "source": [
        "nltk.download('stopwords')\n",
        "nltk.download('wordnet')\n",
        "from nltk.corpus import stopwords\n",
        "from nltk.stem import WordNetLemmatizer\n",
        "from nltk.stem.porter import PorterStemmer\n",
        "\n",
        "wordnet = WordNetLemmatizer()\n",
        "ps = PorterStemmer()\n",
        "corpus = []\n",
        "for i in range(0, len(tweet_senti)):\n",
        "    sntm= re.sub('[^a-zA-Z]', ' ', tweet_senti['text'][i])\n",
        "    sntm = sntm.lower()\n",
        "    sntm = sntm.split()\n",
        "    sntm = re.sub(r'#([^\\s]+)', r'\\1', tweet_senti['text'][i])\n",
        "    text = re.sub('((www\\.[^\\s]+)|(https?://[^\\s]+))','link',tweet_senti['text'][i])\n",
        "    #sntm = [ps.stem(word) for word in sntm if not word in set(stopwords.words('english'))]\n",
        "    #sntm = ' '.join(sntm)\n",
        "    corpus.append(sntm)\n",
        "    "
      ],
      "execution_count": null,
      "outputs": [
        {
          "output_type": "stream",
          "text": [
            "[nltk_data] Downloading package stopwords to /root/nltk_data...\n",
            "[nltk_data]   Package stopwords is already up-to-date!\n",
            "[nltk_data] Downloading package wordnet to /root/nltk_data...\n",
            "[nltk_data]   Package wordnet is already up-to-date!\n"
          ],
          "name": "stdout"
        }
      ]
    },
    {
      "cell_type": "markdown",
      "metadata": {
        "id": "2u5Dr0qNzX6m",
        "colab_type": "text"
      },
      "source": [
        "Now we need to replace this 'text' column from the dataframe tweet_senti with the new values of the list corpus."
      ]
    },
    {
      "cell_type": "code",
      "metadata": {
        "id": "z9ZMcGHkJnuk",
        "colab_type": "code",
        "colab": {
          "base_uri": "https://localhost:8080/",
          "height": 224
        },
        "outputId": "18149496-8f9d-4310-8526-869db2540da6"
      },
      "source": [
        "tweet_senti['newtext']= corpus\n",
        "tweet_senti.drop([\"text\"],axis=1, inplace = True)"
      ],
      "execution_count": null,
      "outputs": [
        {
          "output_type": "stream",
          "text": [
            "/usr/local/lib/python3.6/dist-packages/ipykernel_launcher.py:1: SettingWithCopyWarning: \n",
            "A value is trying to be set on a copy of a slice from a DataFrame.\n",
            "Try using .loc[row_indexer,col_indexer] = value instead\n",
            "\n",
            "See the caveats in the documentation: https://pandas.pydata.org/pandas-docs/stable/user_guide/indexing.html#returning-a-view-versus-a-copy\n",
            "  \"\"\"Entry point for launching an IPython kernel.\n",
            "/usr/local/lib/python3.6/dist-packages/pandas/core/frame.py:3997: SettingWithCopyWarning: \n",
            "A value is trying to be set on a copy of a slice from a DataFrame\n",
            "\n",
            "See the caveats in the documentation: https://pandas.pydata.org/pandas-docs/stable/user_guide/indexing.html#returning-a-view-versus-a-copy\n",
            "  errors=errors,\n"
          ],
          "name": "stderr"
        }
      ]
    },
    {
      "cell_type": "code",
      "metadata": {
        "id": "w_xd9XHLCRKu",
        "colab_type": "code",
        "colab": {
          "base_uri": "https://localhost:8080/",
          "height": 419
        },
        "outputId": "1f8c1a4b-049d-4a13-d0db-2fe83e9f719a"
      },
      "source": [
        "tweet_senti"
      ],
      "execution_count": null,
      "outputs": [
        {
          "output_type": "execute_result",
          "data": {
            "text/html": [
              "<div>\n",
              "<style scoped>\n",
              "    .dataframe tbody tr th:only-of-type {\n",
              "        vertical-align: middle;\n",
              "    }\n",
              "\n",
              "    .dataframe tbody tr th {\n",
              "        vertical-align: top;\n",
              "    }\n",
              "\n",
              "    .dataframe thead th {\n",
              "        text-align: right;\n",
              "    }\n",
              "</style>\n",
              "<table border=\"1\" class=\"dataframe\">\n",
              "  <thead>\n",
              "    <tr style=\"text-align: right;\">\n",
              "      <th></th>\n",
              "      <th>airline_sentiment</th>\n",
              "      <th>newtext</th>\n",
              "    </tr>\n",
              "  </thead>\n",
              "  <tbody>\n",
              "    <tr>\n",
              "      <th>0</th>\n",
              "      <td>neutral</td>\n",
              "      <td>@VirginAmerica What @dhepburn said.</td>\n",
              "    </tr>\n",
              "    <tr>\n",
              "      <th>1</th>\n",
              "      <td>positive</td>\n",
              "      <td>@VirginAmerica plus you've added commercials t...</td>\n",
              "    </tr>\n",
              "    <tr>\n",
              "      <th>2</th>\n",
              "      <td>neutral</td>\n",
              "      <td>@VirginAmerica I didn't today... Must mean I n...</td>\n",
              "    </tr>\n",
              "    <tr>\n",
              "      <th>3</th>\n",
              "      <td>negative</td>\n",
              "      <td>@VirginAmerica it's really aggressive to blast...</td>\n",
              "    </tr>\n",
              "    <tr>\n",
              "      <th>4</th>\n",
              "      <td>negative</td>\n",
              "      <td>@VirginAmerica and it's a really big bad thing...</td>\n",
              "    </tr>\n",
              "    <tr>\n",
              "      <th>...</th>\n",
              "      <td>...</td>\n",
              "      <td>...</td>\n",
              "    </tr>\n",
              "    <tr>\n",
              "      <th>14635</th>\n",
              "      <td>positive</td>\n",
              "      <td>@AmericanAir thank you we got on a different f...</td>\n",
              "    </tr>\n",
              "    <tr>\n",
              "      <th>14636</th>\n",
              "      <td>negative</td>\n",
              "      <td>@AmericanAir leaving over 20 minutes Late Flig...</td>\n",
              "    </tr>\n",
              "    <tr>\n",
              "      <th>14637</th>\n",
              "      <td>neutral</td>\n",
              "      <td>@AmericanAir Please bring American Airlines to...</td>\n",
              "    </tr>\n",
              "    <tr>\n",
              "      <th>14638</th>\n",
              "      <td>negative</td>\n",
              "      <td>@AmericanAir you have my money, you change my ...</td>\n",
              "    </tr>\n",
              "    <tr>\n",
              "      <th>14639</th>\n",
              "      <td>neutral</td>\n",
              "      <td>@AmericanAir we have 8 ppl so we need 2 know h...</td>\n",
              "    </tr>\n",
              "  </tbody>\n",
              "</table>\n",
              "<p>14640 rows × 2 columns</p>\n",
              "</div>"
            ],
            "text/plain": [
              "      airline_sentiment                                            newtext\n",
              "0               neutral                @VirginAmerica What @dhepburn said.\n",
              "1              positive  @VirginAmerica plus you've added commercials t...\n",
              "2               neutral  @VirginAmerica I didn't today... Must mean I n...\n",
              "3              negative  @VirginAmerica it's really aggressive to blast...\n",
              "4              negative  @VirginAmerica and it's a really big bad thing...\n",
              "...                 ...                                                ...\n",
              "14635          positive  @AmericanAir thank you we got on a different f...\n",
              "14636          negative  @AmericanAir leaving over 20 minutes Late Flig...\n",
              "14637           neutral  @AmericanAir Please bring American Airlines to...\n",
              "14638          negative  @AmericanAir you have my money, you change my ...\n",
              "14639           neutral  @AmericanAir we have 8 ppl so we need 2 know h...\n",
              "\n",
              "[14640 rows x 2 columns]"
            ]
          },
          "metadata": {
            "tags": []
          },
          "execution_count": 195
        }
      ]
    },
    {
      "cell_type": "markdown",
      "metadata": {
        "id": "vHol938cW8zd",
        "colab_type": "text"
      },
      "source": [
        "### Splitting the dataset into the Training set and Test set"
      ]
    },
    {
      "cell_type": "markdown",
      "metadata": {
        "id": "rP2jr0Y5_LZu",
        "colab_type": "text"
      },
      "source": [
        "We do not need the rest of the columns in the dataset thus, we will only use the two relevant columns that are 'newtext' and 'airline_sentiment' and make this the new dataframe."
      ]
    },
    {
      "cell_type": "code",
      "metadata": {
        "id": "51hjk1bB9fyj",
        "colab_type": "code",
        "colab": {
          "base_uri": "https://localhost:8080/",
          "height": 419
        },
        "outputId": "0b79a079-faf5-4a9b-8902-611b7cb3e378"
      },
      "source": [
        "df = tweet_senti[['newtext','airline_sentiment']]\n",
        "df"
      ],
      "execution_count": null,
      "outputs": [
        {
          "output_type": "execute_result",
          "data": {
            "text/html": [
              "<div>\n",
              "<style scoped>\n",
              "    .dataframe tbody tr th:only-of-type {\n",
              "        vertical-align: middle;\n",
              "    }\n",
              "\n",
              "    .dataframe tbody tr th {\n",
              "        vertical-align: top;\n",
              "    }\n",
              "\n",
              "    .dataframe thead th {\n",
              "        text-align: right;\n",
              "    }\n",
              "</style>\n",
              "<table border=\"1\" class=\"dataframe\">\n",
              "  <thead>\n",
              "    <tr style=\"text-align: right;\">\n",
              "      <th></th>\n",
              "      <th>newtext</th>\n",
              "      <th>airline_sentiment</th>\n",
              "    </tr>\n",
              "  </thead>\n",
              "  <tbody>\n",
              "    <tr>\n",
              "      <th>0</th>\n",
              "      <td>@VirginAmerica What @dhepburn said.</td>\n",
              "      <td>neutral</td>\n",
              "    </tr>\n",
              "    <tr>\n",
              "      <th>1</th>\n",
              "      <td>@VirginAmerica plus you've added commercials t...</td>\n",
              "      <td>positive</td>\n",
              "    </tr>\n",
              "    <tr>\n",
              "      <th>2</th>\n",
              "      <td>@VirginAmerica I didn't today... Must mean I n...</td>\n",
              "      <td>neutral</td>\n",
              "    </tr>\n",
              "    <tr>\n",
              "      <th>3</th>\n",
              "      <td>@VirginAmerica it's really aggressive to blast...</td>\n",
              "      <td>negative</td>\n",
              "    </tr>\n",
              "    <tr>\n",
              "      <th>4</th>\n",
              "      <td>@VirginAmerica and it's a really big bad thing...</td>\n",
              "      <td>negative</td>\n",
              "    </tr>\n",
              "    <tr>\n",
              "      <th>...</th>\n",
              "      <td>...</td>\n",
              "      <td>...</td>\n",
              "    </tr>\n",
              "    <tr>\n",
              "      <th>14635</th>\n",
              "      <td>@AmericanAir thank you we got on a different f...</td>\n",
              "      <td>positive</td>\n",
              "    </tr>\n",
              "    <tr>\n",
              "      <th>14636</th>\n",
              "      <td>@AmericanAir leaving over 20 minutes Late Flig...</td>\n",
              "      <td>negative</td>\n",
              "    </tr>\n",
              "    <tr>\n",
              "      <th>14637</th>\n",
              "      <td>@AmericanAir Please bring American Airlines to...</td>\n",
              "      <td>neutral</td>\n",
              "    </tr>\n",
              "    <tr>\n",
              "      <th>14638</th>\n",
              "      <td>@AmericanAir you have my money, you change my ...</td>\n",
              "      <td>negative</td>\n",
              "    </tr>\n",
              "    <tr>\n",
              "      <th>14639</th>\n",
              "      <td>@AmericanAir we have 8 ppl so we need 2 know h...</td>\n",
              "      <td>neutral</td>\n",
              "    </tr>\n",
              "  </tbody>\n",
              "</table>\n",
              "<p>14640 rows × 2 columns</p>\n",
              "</div>"
            ],
            "text/plain": [
              "                                                 newtext airline_sentiment\n",
              "0                    @VirginAmerica What @dhepburn said.           neutral\n",
              "1      @VirginAmerica plus you've added commercials t...          positive\n",
              "2      @VirginAmerica I didn't today... Must mean I n...           neutral\n",
              "3      @VirginAmerica it's really aggressive to blast...          negative\n",
              "4      @VirginAmerica and it's a really big bad thing...          negative\n",
              "...                                                  ...               ...\n",
              "14635  @AmericanAir thank you we got on a different f...          positive\n",
              "14636  @AmericanAir leaving over 20 minutes Late Flig...          negative\n",
              "14637  @AmericanAir Please bring American Airlines to...           neutral\n",
              "14638  @AmericanAir you have my money, you change my ...          negative\n",
              "14639  @AmericanAir we have 8 ppl so we need 2 know h...           neutral\n",
              "\n",
              "[14640 rows x 2 columns]"
            ]
          },
          "metadata": {
            "tags": []
          },
          "execution_count": 196
        }
      ]
    },
    {
      "cell_type": "markdown",
      "metadata": {
        "id": "XafFb2ru_br8",
        "colab_type": "text"
      },
      "source": [
        "We will split the generated dataframe into Training set and Testing set, where 80% will be in training set and 20% will be in testing set."
      ]
    },
    {
      "cell_type": "code",
      "metadata": {
        "id": "d0Zs_DZv_soC",
        "colab_type": "code",
        "colab": {}
      },
      "source": [
        "from sklearn.model_selection import train_test_split\n",
        "df_train, df_test = train_test_split(df,test_size=0.1,random_state=10)"
      ],
      "execution_count": null,
      "outputs": []
    },
    {
      "cell_type": "markdown",
      "metadata": {
        "id": "lSEz7OMpAQbk",
        "colab_type": "text"
      },
      "source": [
        "Now we will convert the training set and testing set into csv files which will be imported later for building the model."
      ]
    },
    {
      "cell_type": "code",
      "metadata": {
        "id": "hKKcxj6wAfG2",
        "colab_type": "code",
        "colab": {}
      },
      "source": [
        "df_train.to_csv('tweet_train.csv')\n",
        "df_test.to_csv('tweet_test.csv')"
      ],
      "execution_count": null,
      "outputs": []
    },
    {
      "cell_type": "markdown",
      "metadata": {
        "id": "VYYZAvfVEU5O",
        "colab_type": "text"
      },
      "source": [
        "Now we will create a TextLMDataBunch from the csv file"
      ]
    },
    {
      "cell_type": "markdown",
      "metadata": {
        "id": "-zfEzkRVXIwF",
        "colab_type": "text"
      },
      "source": [
        "## Part 2 - Building the ULMFiT Model"
      ]
    },
    {
      "cell_type": "markdown",
      "metadata": {
        "id": "GoLK6MtXealA",
        "colab_type": "text"
      },
      "source": [
        "Universal Language Model Fine-tuning (ULMFIT) is a transfer learning technique that can assist with different NLP tasks. It's been a state-of-the-art NLP technique for a long time."
      ]
    },
    {
      "cell_type": "markdown",
      "metadata": {
        "id": "KvdeScabXtlB",
        "colab_type": "text"
      },
      "source": [
        "### Build the Language Model"
      ]
    },
    {
      "cell_type": "markdown",
      "metadata": {
        "id": "8xMcCtA9WI7D",
        "colab_type": "text"
      },
      "source": [
        "We will import fastai library in order to build and train our ULMFiT model"
      ]
    },
    {
      "cell_type": "code",
      "metadata": {
        "id": "Q_mq8dvUWBb8",
        "colab_type": "code",
        "colab": {}
      },
      "source": [
        "from fastai.text import *"
      ],
      "execution_count": null,
      "outputs": []
    },
    {
      "cell_type": "markdown",
      "metadata": {
        "id": "rF7khQfuL9nk",
        "colab_type": "text"
      },
      "source": [
        "The fastai library text module contains all the required functions to identify a dataset suitable for the different NLP (Natural Language Processing) tasks and generate models using them quickly."
      ]
    },
    {
      "cell_type": "markdown",
      "metadata": {
        "id": "Kc6C6aYwM62f",
        "colab_type": "text"
      },
      "source": [
        " We will use class TextDataBunch, which is suitable for training the language model.\n",
        "Then we will create a 'TextLMDataBunch' from tweet_train.csv.\n",
        "Then we will specify 'valid=0.1' in order to set 10% of our training data for a validation set."
      ]
    },
    {
      "cell_type": "code",
      "metadata": {
        "id": "3dtrScHxXQox",
        "colab_type": "code",
        "colab": {
          "base_uri": "https://localhost:8080/",
          "height": 17
        },
        "outputId": "e3e33352-c2e8-4577-f3c2-573be5d9c456"
      },
      "source": [
        "tweet = TextLMDataBunch.from_csv(path='',csv_name='tweet_train.csv',valid_pct=0.1)\n"
      ],
      "execution_count": null,
      "outputs": [
        {
          "output_type": "display_data",
          "data": {
            "text/html": [
              ""
            ],
            "text/plain": [
              "<IPython.core.display.HTML object>"
            ]
          },
          "metadata": {
            "tags": []
          }
        },
        {
          "output_type": "display_data",
          "data": {
            "text/html": [
              ""
            ],
            "text/plain": [
              "<IPython.core.display.HTML object>"
            ]
          },
          "metadata": {
            "tags": []
          }
        }
      ]
    },
    {
      "cell_type": "markdown",
      "metadata": {
        "id": "SgUDCNZpQJCK",
        "colab_type": "text"
      },
      "source": [
        "Let us see how this batch looks. In order to do that we will use function show_batch()"
      ]
    },
    {
      "cell_type": "code",
      "metadata": {
        "id": "GVjLrfgcP-CJ",
        "colab_type": "code",
        "colab": {
          "base_uri": "https://localhost:8080/",
          "height": 374
        },
        "outputId": "307b3aab-cc85-4be1-cc98-7b61764de997"
      },
      "source": [
        "tweet.show_batch()"
      ],
      "execution_count": null,
      "outputs": [
        {
          "output_type": "display_data",
          "data": {
            "text/html": [
              "<table border=\"1\" class=\"dataframe\">\n",
              "  <thead>\n",
              "    <tr style=\"text-align: right;\">\n",
              "      <th>idx</th>\n",
              "      <th>text</th>\n",
              "    </tr>\n",
              "  </thead>\n",
              "  <tbody>\n",
              "    <tr>\n",
              "      <td>0</td>\n",
              "      <td>xxmaj leaving at 6:15 am tomorrow xxbos @usairways now on hold for an hour . xxmaj so frustrating , i suspect you have more operators come in on days like this w / inclement weather ? xxbos @americanair i am , called xxmaj paris office this morning again , still waiting . xxmaj it is in xxmaj miami but apparently tag was \" taken off \" xxbos @united thanks for</td>\n",
              "    </tr>\n",
              "    <tr>\n",
              "      <td>1</td>\n",
              "      <td>start service to xxmaj hawaii from sanfrancisco this year http : / / t.co / xxunk xxunk xxbos “ @southwestair : xxmaj companion xxmaj pass . xxmaj because everyone deserves redcarpet treatment and a +1 ( even if it 's your mom ) . http : / / t.co / xxunk ” xxbos @southwestair way to fuck up and lose xxunk bags . xxmaj my husband has no warm clothes</td>\n",
              "    </tr>\n",
              "    <tr>\n",
              "      <td>2</td>\n",
              "      <td>@americanair i dmed you my xxup aa &amp; &amp; phone s &amp; &amp; you ca n't have someone call me ? xxmaj what was the point of your response ? xxmaj you did n't resolve anything ! xxbos @united xxmaj thanks . xxmaj it is on the same ticket . xxbos 😩 xxrep 4 😂 “ @jetblue : xxmaj our fleet 's on fleek . http : / / t.co</td>\n",
              "    </tr>\n",
              "    <tr>\n",
              "      <td>3</td>\n",
              "      <td>flight . xxmaj no excuse ! xxbos @jetblue this feels nice - what we 've got going on here . xxmaj let 's just xxunk me out with the fool in xxunk and we can make it all better . xxbos @usairways why ca nt xxmaj sapphire members reach anyone on the phone ? xxbos @virginamerica you know what would be amazingly awesome ? xxup bos - xxup fll xxup</td>\n",
              "    </tr>\n",
              "    <tr>\n",
              "      <td>4</td>\n",
              "      <td>know xxup now ! xxmaj three xxunk of travelers in just 20 mins standing here waiting for mins to pass by . xxbos @united xxmaj will you be issuing an exception policy for xxmaj denver for this weekend ? xxbos @united you are one great airline ❤ ️ xxbos @usairways pilot says that we are going to take off in 10 minutes . xxmaj so maybe the systems came back</td>\n",
              "    </tr>\n",
              "  </tbody>\n",
              "</table>"
            ],
            "text/plain": [
              "<IPython.core.display.HTML object>"
            ]
          },
          "metadata": {
            "tags": []
          }
        }
      ]
    },
    {
      "cell_type": "markdown",
      "metadata": {
        "id": "yfMf93ACT3oa",
        "colab_type": "text"
      },
      "source": [
        "So now we will build a language model, then we will train it and finally save the encodings (Encodings basically means the weights.)\n",
        "\n",
        "To build our language model, we will use  the class language_model_learner() from fastai.\n",
        "\n",
        "We will pass in our 'tweet' object to specify our Twitter dataset\n",
        "Along with it we will give in AWD_LSTM to clarify that we're using this particular architecture for our language model.\n",
        "\n",
        "The AWD-LSTM dominates the state-of-the-art modeling of languages. AWD-LSTM stands for ASGD Weight-Dropped LSTM. It uses a variety of well-known regularization techniques."
      ]
    },
    {
      "cell_type": "code",
      "metadata": {
        "id": "xRtOkn9NWXOj",
        "colab_type": "code",
        "colab": {}
      },
      "source": [
        "tweet_model = language_model_learner(tweet, AWD_LSTM, drop_mult=0.3)"
      ],
      "execution_count": null,
      "outputs": []
    },
    {
      "cell_type": "code",
      "metadata": {
        "id": "mqAh9E4eXQGR",
        "colab_type": "code",
        "colab": {
          "base_uri": "https://localhost:8080/",
          "height": 510
        },
        "outputId": "4b42c88a-7486-47ea-f4fc-7bf9c937bfb3"
      },
      "source": [
        "tweet_model.model"
      ],
      "execution_count": null,
      "outputs": [
        {
          "output_type": "execute_result",
          "data": {
            "text/plain": [
              "SequentialRNN(\n",
              "  (0): AWD_LSTM(\n",
              "    (encoder): Embedding(5896, 400, padding_idx=1)\n",
              "    (encoder_dp): EmbeddingDropout(\n",
              "      (emb): Embedding(5896, 400, padding_idx=1)\n",
              "    )\n",
              "    (rnns): ModuleList(\n",
              "      (0): WeightDropout(\n",
              "        (module): LSTM(400, 1152, batch_first=True)\n",
              "      )\n",
              "      (1): WeightDropout(\n",
              "        (module): LSTM(1152, 1152, batch_first=True)\n",
              "      )\n",
              "      (2): WeightDropout(\n",
              "        (module): LSTM(1152, 400, batch_first=True)\n",
              "      )\n",
              "    )\n",
              "    (input_dp): RNNDropout()\n",
              "    (hidden_dps): ModuleList(\n",
              "      (0): RNNDropout()\n",
              "      (1): RNNDropout()\n",
              "      (2): RNNDropout()\n",
              "    )\n",
              "  )\n",
              "  (1): LinearDecoder(\n",
              "    (decoder): Linear(in_features=400, out_features=5896, bias=True)\n",
              "    (output_dp): RNNDropout()\n",
              "  )\n",
              ")"
            ]
          },
          "metadata": {
            "tags": []
          },
          "execution_count": 204
        }
      ]
    },
    {
      "cell_type": "markdown",
      "metadata": {
        "id": "6poaUQIsgBcS",
        "colab_type": "text"
      },
      "source": [
        "Now we will find the learning rate.\n",
        "The learning rate finder class is used to find the optimum learning rate."
      ]
    },
    {
      "cell_type": "code",
      "metadata": {
        "id": "rmfxCKB8iDmV",
        "colab_type": "code",
        "colab": {
          "base_uri": "https://localhost:8080/",
          "height": 143
        },
        "outputId": "68fd633b-3fb3-477a-e66e-94d5026d22a6"
      },
      "source": [
        "tweet_model.lr_find()"
      ],
      "execution_count": null,
      "outputs": [
        {
          "output_type": "display_data",
          "data": {
            "text/html": [
              "\n",
              "    <div>\n",
              "        <style>\n",
              "            /* Turns off some styling */\n",
              "            progress {\n",
              "                /* gets rid of default border in Firefox and Opera. */\n",
              "                border: none;\n",
              "                /* Needs to be in here for Safari polyfill so background images work as expected. */\n",
              "                background-size: auto;\n",
              "            }\n",
              "            .progress-bar-interrupted, .progress-bar-interrupted::-webkit-progress-bar {\n",
              "                background: #F44336;\n",
              "            }\n",
              "        </style>\n",
              "      <progress value='1' class='' max='2' style='width:300px; height:20px; vertical-align: middle;'></progress>\n",
              "      50.00% [1/2 00:11<00:11]\n",
              "    </div>\n",
              "    \n",
              "<table border=\"1\" class=\"dataframe\">\n",
              "  <thead>\n",
              "    <tr style=\"text-align: left;\">\n",
              "      <th>epoch</th>\n",
              "      <th>train_loss</th>\n",
              "      <th>valid_loss</th>\n",
              "      <th>accuracy</th>\n",
              "      <th>time</th>\n",
              "    </tr>\n",
              "  </thead>\n",
              "  <tbody>\n",
              "    <tr>\n",
              "      <td>0</td>\n",
              "      <td>6.388753</td>\n",
              "      <td>#na#</td>\n",
              "      <td>00:11</td>\n",
              "    </tr>\n",
              "  </tbody>\n",
              "</table><p>\n",
              "\n",
              "    <div>\n",
              "        <style>\n",
              "            /* Turns off some styling */\n",
              "            progress {\n",
              "                /* gets rid of default border in Firefox and Opera. */\n",
              "                border: none;\n",
              "                /* Needs to be in here for Safari polyfill so background images work as expected. */\n",
              "                background-size: auto;\n",
              "            }\n",
              "            .progress-bar-interrupted, .progress-bar-interrupted::-webkit-progress-bar {\n",
              "                background: #F44336;\n",
              "            }\n",
              "        </style>\n",
              "      <progress value='35' class='' max='64' style='width:300px; height:20px; vertical-align: middle;'></progress>\n",
              "      54.69% [35/64 00:06<00:05 9.8875]\n",
              "    </div>\n",
              "    "
            ],
            "text/plain": [
              "<IPython.core.display.HTML object>"
            ]
          },
          "metadata": {
            "tags": []
          }
        },
        {
          "output_type": "stream",
          "text": [
            "LR Finder is complete, type {learner_name}.recorder.plot() to see the graph.\n"
          ],
          "name": "stdout"
        }
      ]
    },
    {
      "cell_type": "markdown",
      "metadata": {
        "id": "-rpqUHBiKeZn",
        "colab_type": "text"
      },
      "source": [
        "If we pass suggestion=True in the learn.recorder.plot(), we can obtain the point where the gradient is the steepest. It is indicated with a red dot on the graph. We can use that point as the first guess for our Learning Rate."
      ]
    },
    {
      "cell_type": "code",
      "metadata": {
        "id": "lOhk6dFtiYHq",
        "colab_type": "code",
        "colab": {
          "base_uri": "https://localhost:8080/",
          "height": 313
        },
        "outputId": "0f36164a-285d-41a5-c73e-652c0d1d1651"
      },
      "source": [
        "tweet_model.recorder.plot(show_grid=True, suggestion=True)"
      ],
      "execution_count": null,
      "outputs": [
        {
          "output_type": "stream",
          "text": [
            "Min numerical gradient: 3.98E-02\n",
            "Min loss divided by 10: 5.25E-02\n"
          ],
          "name": "stdout"
        },
        {
          "output_type": "display_data",
          "data": {
            "image/png": "[encoded data removed]",
            "text/plain": [
              "<Figure size 432x288 with 1 Axes>"
            ]
          },
          "metadata": {
            "tags": [],
            "needs_background": "light"
          }
        }
      ]
    },
    {
      "cell_type": "markdown",
      "metadata": {
        "id": "gSvOsr07MKzd",
        "colab_type": "text"
      },
      "source": [
        "As evident from the graph plotted above, we will take 3.98e-02  as the learning rate because, after that particular value, the loss becomes minimum.\n",
        "\n",
        "We must set the cycle length to 1 as we train only with one epoch 'moms' refers to a tuple which has the parameters as (max_momentum,min_momentum)."
      ]
    },
    {
      "cell_type": "code",
      "metadata": {
        "id": "Xh5ul9fmtw6_",
        "colab_type": "code",
        "colab": {
          "base_uri": "https://localhost:8080/",
          "height": 80
        },
        "outputId": "95d18f41-f54a-403f-86df-b06bde7e7161"
      },
      "source": [
        "tweet_model.fit_one_cycle(cyc_len=1,max_lr=3.98e-02,moms=(0.85,0.75))"
      ],
      "execution_count": null,
      "outputs": [
        {
          "output_type": "display_data",
          "data": {
            "text/html": [
              "<table border=\"1\" class=\"dataframe\">\n",
              "  <thead>\n",
              "    <tr style=\"text-align: left;\">\n",
              "      <th>epoch</th>\n",
              "      <th>train_loss</th>\n",
              "      <th>valid_loss</th>\n",
              "      <th>accuracy</th>\n",
              "      <th>time</th>\n",
              "    </tr>\n",
              "  </thead>\n",
              "  <tbody>\n",
              "    <tr>\n",
              "      <td>0</td>\n",
              "      <td>4.444878</td>\n",
              "      <td>3.936272</td>\n",
              "      <td>0.260296</td>\n",
              "      <td>00:11</td>\n",
              "    </tr>\n",
              "  </tbody>\n",
              "</table>"
            ],
            "text/plain": [
              "<IPython.core.display.HTML object>"
            ]
          },
          "metadata": {
            "tags": []
          }
        }
      ]
    },
    {
      "cell_type": "markdown",
      "metadata": {
        "id": "qZNvTcrcYMP-",
        "colab_type": "text"
      },
      "source": [
        "We will now unfreeze the LSTM layers of the model"
      ]
    },
    {
      "cell_type": "code",
      "metadata": {
        "id": "-euEyT4aOQsa",
        "colab_type": "code",
        "colab": {}
      },
      "source": [
        "tweet_model.unfreeze()"
      ],
      "execution_count": null,
      "outputs": []
    },
    {
      "cell_type": "code",
      "metadata": {
        "id": "Sg9iHk5MaOkK",
        "colab_type": "code",
        "colab": {
          "base_uri": "https://localhost:8080/",
          "height": 204
        },
        "outputId": "a06a6ce4-0a98-468e-9a5a-2880c274c46f"
      },
      "source": [
        "tweet_model.fit_one_cycle(cyc_len=5, max_lr=slice(3.98e-02/(2.6**4),3.98e-02), moms=(0.85, 0.75))"
      ],
      "execution_count": null,
      "outputs": [
        {
          "output_type": "display_data",
          "data": {
            "text/html": [
              "<table border=\"1\" class=\"dataframe\">\n",
              "  <thead>\n",
              "    <tr style=\"text-align: left;\">\n",
              "      <th>epoch</th>\n",
              "      <th>train_loss</th>\n",
              "      <th>valid_loss</th>\n",
              "      <th>accuracy</th>\n",
              "      <th>time</th>\n",
              "    </tr>\n",
              "  </thead>\n",
              "  <tbody>\n",
              "    <tr>\n",
              "      <td>0</td>\n",
              "      <td>3.781284</td>\n",
              "      <td>3.828749</td>\n",
              "      <td>0.274163</td>\n",
              "      <td>00:16</td>\n",
              "    </tr>\n",
              "    <tr>\n",
              "      <td>1</td>\n",
              "      <td>3.675354</td>\n",
              "      <td>3.750796</td>\n",
              "      <td>0.286217</td>\n",
              "      <td>00:16</td>\n",
              "    </tr>\n",
              "    <tr>\n",
              "      <td>2</td>\n",
              "      <td>3.303514</td>\n",
              "      <td>3.777685</td>\n",
              "      <td>0.291462</td>\n",
              "      <td>00:15</td>\n",
              "    </tr>\n",
              "    <tr>\n",
              "      <td>3</td>\n",
              "      <td>2.665107</td>\n",
              "      <td>3.960861</td>\n",
              "      <td>0.293471</td>\n",
              "      <td>00:14</td>\n",
              "    </tr>\n",
              "    <tr>\n",
              "      <td>4</td>\n",
              "      <td>2.027926</td>\n",
              "      <td>4.206308</td>\n",
              "      <td>0.286440</td>\n",
              "      <td>00:15</td>\n",
              "    </tr>\n",
              "  </tbody>\n",
              "</table>"
            ],
            "text/plain": [
              "<IPython.core.display.HTML object>"
            ]
          },
          "metadata": {
            "tags": []
          }
        }
      ]
    },
    {
      "cell_type": "code",
      "metadata": {
        "id": "PO0twKA-dJOL",
        "colab_type": "code",
        "colab": {}
      },
      "source": [
        "tweet_model.save_encoder('encoder')"
      ],
      "execution_count": null,
      "outputs": []
    },
    {
      "cell_type": "markdown",
      "metadata": {
        "id": "lPZf_7E8dQkf",
        "colab_type": "text"
      },
      "source": [
        "### Building Classification Model"
      ]
    },
    {
      "cell_type": "markdown",
      "metadata": {
        "id": "MVDytq2VdZId",
        "colab_type": "text"
      },
      "source": [
        "In this section, we will change the model accordingly in order to perform the classification task.\n",
        "\n",
        "We will again create 'TextClassDataBunch' from the dataset tweet_train.csv.\n",
        "We will then pass vocab in order to ensure the vocab is the same which was modified in the fine-tuned Language Model.\n"
      ]
    },
    {
      "cell_type": "code",
      "metadata": {
        "id": "22-ZXM15ezo-",
        "colab_type": "code",
        "colab": {
          "base_uri": "https://localhost:8080/",
          "height": 17
        },
        "outputId": "d2ec4744-48cc-4483-ca34-1618e0b7e9a8"
      },
      "source": [
        "tweet_class = TextClasDataBunch.from_csv(path='',csv_name='tweet_train.csv',\n",
        "                              vocab=tweet.train_ds.vocab,bs=32,text_cols='newtext',label_cols='airline_sentiment')\n"
      ],
      "execution_count": null,
      "outputs": [
        {
          "output_type": "display_data",
          "data": {
            "text/html": [
              ""
            ],
            "text/plain": [
              "<IPython.core.display.HTML object>"
            ]
          },
          "metadata": {
            "tags": []
          }
        },
        {
          "output_type": "display_data",
          "data": {
            "text/html": [
              ""
            ],
            "text/plain": [
              "<IPython.core.display.HTML object>"
            ]
          },
          "metadata": {
            "tags": []
          }
        }
      ]
    },
    {
      "cell_type": "markdown",
      "metadata": {
        "id": "IvNUUHdehZLf",
        "colab_type": "text"
      },
      "source": [
        "Let us see how the batch looks like"
      ]
    },
    {
      "cell_type": "code",
      "metadata": {
        "id": "7bg3cj4ohJeq",
        "colab_type": "code",
        "colab": {
          "base_uri": "https://localhost:8080/",
          "height": 289
        },
        "outputId": "40059e0a-5e8c-4235-f0ff-47c221cf6e0d"
      },
      "source": [
        "tweet_class.show_batch()"
      ],
      "execution_count": null,
      "outputs": [
        {
          "output_type": "display_data",
          "data": {
            "text/html": [
              "<table border=\"1\" class=\"dataframe\">\n",
              "  <thead>\n",
              "    <tr style=\"text-align: right;\">\n",
              "      <th>text</th>\n",
              "      <th>target</th>\n",
              "    </tr>\n",
              "  </thead>\n",
              "  <tbody>\n",
              "    <tr>\n",
              "      <td>xxbos @united xxmaj hi have a question re future xxmaj flight xxmaj booking xxmaj problems . xxup xxunk - xxup jac 29 / 9 xxup jac - xxup lax 8 / 10 xxup lax - xxup xxunk 13 / 10 . i 'm * xxup xxunk xxmaj what is checked bag allowance for xxup jac - xxup lax ?</td>\n",
              "      <td>neutral</td>\n",
              "    </tr>\n",
              "    <tr>\n",
              "      <td>xxbos @usairways xxup plans xxup changed ! xxup is xxup that xxup what u xxup call xxup not xxup bein xxup able 2 xxup park xxup on xxup time xxup planes w a 2 xxup hr xxup layover n b xxup able 2 xxup make xxup ur xxup connection ! seriously</td>\n",
              "      <td>negative</td>\n",
              "    </tr>\n",
              "    <tr>\n",
              "      <td>xxbos @americanair xxup poor xxup experience 2day at ord xxunk . 8 emp . w / 3 cust . 10 waiting . xxmaj asked to speak w / supervisor . xxmaj told 20 min . xxmaj in a mtg ! ! xxmaj what ? ! ? !</td>\n",
              "      <td>negative</td>\n",
              "    </tr>\n",
              "    <tr>\n",
              "      <td>xxbos @united xxup fail xxmaj you xxmaj cancelled xxmaj flightled our flight frm xxup xxunk and then used our reserv home to xxup iah ( from xxup sea ) for reflight xxmaj booking xxmaj problems w / out xxup our xxup permission ! ! xxup ph6rps</td>\n",
              "      <td>negative</td>\n",
              "    </tr>\n",
              "    <tr>\n",
              "      <td>xxbos xxup by xxup the xxup grace xxup of xxup god , i xxup made xxup it ! “ @usairways : xxup xxunk _ _ xxmaj we do n't have those xxunk in here . xxmaj we hope you can make that flight . ”</td>\n",
              "      <td>positive</td>\n",
              "    </tr>\n",
              "  </tbody>\n",
              "</table>"
            ],
            "text/plain": [
              "<IPython.core.display.HTML object>"
            ]
          },
          "metadata": {
            "tags": []
          }
        }
      ]
    },
    {
      "cell_type": "markdown",
      "metadata": {
        "id": "rdMQRIlihz1W",
        "colab_type": "text"
      },
      "source": [
        "Now we will create a new learner object by using 'text_classifier_learner.' The primary concept behind this learner object is similar to 'language_model_learner' because we will use the same architecture of AWD_LSTM. Also, it can similarly take in callbacks that basically allow us to train our model with unique optimization techniques. \n"
      ]
    },
    {
      "cell_type": "code",
      "metadata": {
        "id": "KavILC9ZjnSS",
        "colab_type": "code",
        "colab": {}
      },
      "source": [
        "tweet_model = text_classifier_learner(tweet_class, AWD_LSTM, drop_mult=0.5)"
      ],
      "execution_count": null,
      "outputs": []
    },
    {
      "cell_type": "markdown",
      "metadata": {
        "id": "f11Kv7vIkBl3",
        "colab_type": "text"
      },
      "source": [
        "Then we will load the encoder into this object i.e learner"
      ]
    },
    {
      "cell_type": "code",
      "metadata": {
        "id": "qj9ucPNNj_Dy",
        "colab_type": "code",
        "colab": {
          "base_uri": "https://localhost:8080/",
          "height": 1000
        },
        "outputId": "d18a9658-b502-48e4-a371-72cb5958499c"
      },
      "source": [
        "tweet_model.load_encoder('encoder')"
      ],
      "execution_count": null,
      "outputs": [
        {
          "output_type": "execute_result",
          "data": {
            "text/plain": [
              "RNNLearner(data=TextClasDataBunch;\n",
              "\n",
              "Train: LabelList (10540 items)\n",
              "x: TextList\n",
              "xxbos @southwestair xxmaj oh no worries xxup xxunk , no xxunk here . xxmaj better to have xxup no lounges than like xxmaj delta who has them but does disappoint !,xxbos @americanair because you wo n't get our bags for us because you said they would go on to xxmaj cincinnati even though we ca n't . xxmaj who exactly is,xxbos @southwestair xxmaj yes ! xxmaj just a few minutes after my tweet . xxmaj she was able to reschedule her flight . xxmaj thanks !,xxbos @united most terrible flight experience happening to everyone right now on xxmaj flight : xxup ua1750 6 delays 4 hrs total missed all my flights now thnx,xxbos @southwestair- ... was only less than xxunk , but it helped . xxmaj had xxunk incoming , but not fast enough to keep pts from xxunk .\n",
              "y: CategoryList\n",
              "positive,negative,positive,negative,neutral\n",
              "Path: .;\n",
              "\n",
              "Valid: LabelList (2636 items)\n",
              "x: TextList\n",
              "xxbos @united received hotel but no food . xxmaj also email for xxunk miles . xxmaj last trip had 3 hr delay and xxunk miles - so less for xxmaj cancelled xxmaj flightlation ?,xxbos @united xxmaj got me home xxunk snow & & xxmaj cancelled xxmaj flightlations ; delivered bag w / o hassle ; plus no wait on phone & & an upgrade . xxmaj thank you !,xxbos @united someone needs to xxup dm me and resolve this correctly . xxmaj extremely disappointed with the service i received . xxmaj terrible management .,xxbos @united is a joke . xxmaj lots of angry people at xxup iah this xxup am .,xxbos @americanair my fly is xxunk if do you have some news\n",
              "y: CategoryList\n",
              "negative,positive,negative,negative,neutral\n",
              "Path: .;\n",
              "\n",
              "Test: None, model=SequentialRNN(\n",
              "  (0): MultiBatchEncoder(\n",
              "    (module): AWD_LSTM(\n",
              "      (encoder): Embedding(5896, 400, padding_idx=1)\n",
              "      (encoder_dp): EmbeddingDropout(\n",
              "        (emb): Embedding(5896, 400, padding_idx=1)\n",
              "      )\n",
              "      (rnns): ModuleList(\n",
              "        (0): WeightDropout(\n",
              "          (module): LSTM(400, 1152, batch_first=True)\n",
              "        )\n",
              "        (1): WeightDropout(\n",
              "          (module): LSTM(1152, 1152, batch_first=True)\n",
              "        )\n",
              "        (2): WeightDropout(\n",
              "          (module): LSTM(1152, 400, batch_first=True)\n",
              "        )\n",
              "      )\n",
              "      (input_dp): RNNDropout()\n",
              "      (hidden_dps): ModuleList(\n",
              "        (0): RNNDropout()\n",
              "        (1): RNNDropout()\n",
              "        (2): RNNDropout()\n",
              "      )\n",
              "    )\n",
              "  )\n",
              "  (1): PoolingLinearClassifier(\n",
              "    (layers): Sequential(\n",
              "      (0): BatchNorm1d(1200, eps=1e-05, momentum=0.1, affine=True, track_running_stats=True)\n",
              "      (1): Dropout(p=0.2, inplace=False)\n",
              "      (2): Linear(in_features=1200, out_features=50, bias=True)\n",
              "      (3): ReLU(inplace=True)\n",
              "      (4): BatchNorm1d(50, eps=1e-05, momentum=0.1, affine=True, track_running_stats=True)\n",
              "      (5): Dropout(p=0.1, inplace=False)\n",
              "      (6): Linear(in_features=50, out_features=3, bias=True)\n",
              "    )\n",
              "  )\n",
              "), opt_func=functools.partial(<class 'torch.optim.adam.Adam'>, betas=(0.9, 0.99)), loss_func=FlattenedLoss of CrossEntropyLoss(), metrics=[<function accuracy at 0x7f217aea7ae8>], true_wd=True, bn_wd=True, wd=0.01, train_bn=True, path=PosixPath('.'), model_dir='models', callback_fns=[functools.partial(<class 'fastai.basic_train.Recorder'>, add_time=True, silent=False)], callbacks=[RNNTrainer\n",
              "learn: RNNLearner(data=TextClasDataBunch;\n",
              "\n",
              "Train: LabelList (10540 items)\n",
              "x: TextList\n",
              "xxbos @southwestair xxmaj oh no worries xxup xxunk , no xxunk here . xxmaj better to have xxup no lounges than like xxmaj delta who has them but does disappoint !,xxbos @americanair because you wo n't get our bags for us because you said they would go on to xxmaj cincinnati even though we ca n't . xxmaj who exactly is,xxbos @southwestair xxmaj yes ! xxmaj just a few minutes after my tweet . xxmaj she was able to reschedule her flight . xxmaj thanks !,xxbos @united most terrible flight experience happening to everyone right now on xxmaj flight : xxup ua1750 6 delays 4 hrs total missed all my flights now thnx,xxbos @southwestair- ... was only less than xxunk , but it helped . xxmaj had xxunk incoming , but not fast enough to keep pts from xxunk .\n",
              "y: CategoryList\n",
              "positive,negative,positive,negative,neutral\n",
              "Path: .;\n",
              "\n",
              "Valid: LabelList (2636 items)\n",
              "x: TextList\n",
              "xxbos @united received hotel but no food . xxmaj also email for xxunk miles . xxmaj last trip had 3 hr delay and xxunk miles - so less for xxmaj cancelled xxmaj flightlation ?,xxbos @united xxmaj got me home xxunk snow & & xxmaj cancelled xxmaj flightlations ; delivered bag w / o hassle ; plus no wait on phone & & an upgrade . xxmaj thank you !,xxbos @united someone needs to xxup dm me and resolve this correctly . xxmaj extremely disappointed with the service i received . xxmaj terrible management .,xxbos @united is a joke . xxmaj lots of angry people at xxup iah this xxup am .,xxbos @americanair my fly is xxunk if do you have some news\n",
              "y: CategoryList\n",
              "negative,positive,negative,negative,neutral\n",
              "Path: .;\n",
              "\n",
              "Test: None, model=SequentialRNN(\n",
              "  (0): MultiBatchEncoder(\n",
              "    (module): AWD_LSTM(\n",
              "      (encoder): Embedding(5896, 400, padding_idx=1)\n",
              "      (encoder_dp): EmbeddingDropout(\n",
              "        (emb): Embedding(5896, 400, padding_idx=1)\n",
              "      )\n",
              "      (rnns): ModuleList(\n",
              "        (0): WeightDropout(\n",
              "          (module): LSTM(400, 1152, batch_first=True)\n",
              "        )\n",
              "        (1): WeightDropout(\n",
              "          (module): LSTM(1152, 1152, batch_first=True)\n",
              "        )\n",
              "        (2): WeightDropout(\n",
              "          (module): LSTM(1152, 400, batch_first=True)\n",
              "        )\n",
              "      )\n",
              "      (input_dp): RNNDropout()\n",
              "      (hidden_dps): ModuleList(\n",
              "        (0): RNNDropout()\n",
              "        (1): RNNDropout()\n",
              "        (2): RNNDropout()\n",
              "      )\n",
              "    )\n",
              "  )\n",
              "  (1): PoolingLinearClassifier(\n",
              "    (layers): Sequential(\n",
              "      (0): BatchNorm1d(1200, eps=1e-05, momentum=0.1, affine=True, track_running_stats=True)\n",
              "      (1): Dropout(p=0.2, inplace=False)\n",
              "      (2): Linear(in_features=1200, out_features=50, bias=True)\n",
              "      (3): ReLU(inplace=True)\n",
              "      (4): BatchNorm1d(50, eps=1e-05, momentum=0.1, affine=True, track_running_stats=True)\n",
              "      (5): Dropout(p=0.1, inplace=False)\n",
              "      (6): Linear(in_features=50, out_features=3, bias=True)\n",
              "    )\n",
              "  )\n",
              "), opt_func=functools.partial(<class 'torch.optim.adam.Adam'>, betas=(0.9, 0.99)), loss_func=FlattenedLoss of CrossEntropyLoss(), metrics=[<function accuracy at 0x7f217aea7ae8>], true_wd=True, bn_wd=True, wd=0.01, train_bn=True, path=PosixPath('.'), model_dir='models', callback_fns=[functools.partial(<class 'fastai.basic_train.Recorder'>, add_time=True, silent=False)], callbacks=[...], layer_groups=[Sequential(\n",
              "  (0): Embedding(5896, 400, padding_idx=1)\n",
              "  (1): EmbeddingDropout(\n",
              "    (emb): Embedding(5896, 400, padding_idx=1)\n",
              "  )\n",
              "), Sequential(\n",
              "  (0): WeightDropout(\n",
              "    (module): LSTM(400, 1152, batch_first=True)\n",
              "  )\n",
              "  (1): RNNDropout()\n",
              "), Sequential(\n",
              "  (0): WeightDropout(\n",
              "    (module): LSTM(1152, 1152, batch_first=True)\n",
              "  )\n",
              "  (1): RNNDropout()\n",
              "), Sequential(\n",
              "  (0): WeightDropout(\n",
              "    (module): LSTM(1152, 400, batch_first=True)\n",
              "  )\n",
              "  (1): RNNDropout()\n",
              "), Sequential(\n",
              "  (0): PoolingLinearClassifier(\n",
              "    (layers): Sequential(\n",
              "      (0): BatchNorm1d(1200, eps=1e-05, momentum=0.1, affine=True, track_running_stats=True)\n",
              "      (1): Dropout(p=0.2, inplace=False)\n",
              "      (2): Linear(in_features=1200, out_features=50, bias=True)\n",
              "      (3): ReLU(inplace=True)\n",
              "      (4): BatchNorm1d(50, eps=1e-05, momentum=0.1, affine=True, track_running_stats=True)\n",
              "      (5): Dropout(p=0.1, inplace=False)\n",
              "      (6): Linear(in_features=50, out_features=3, bias=True)\n",
              "    )\n",
              "  )\n",
              ")], add_time=True, silent=False)\n",
              "alpha: 2.0\n",
              "beta: 1.0], layer_groups=[Sequential(\n",
              "  (0): Embedding(5896, 400, padding_idx=1)\n",
              "  (1): EmbeddingDropout(\n",
              "    (emb): Embedding(5896, 400, padding_idx=1)\n",
              "  )\n",
              "), Sequential(\n",
              "  (0): WeightDropout(\n",
              "    (module): LSTM(400, 1152, batch_first=True)\n",
              "  )\n",
              "  (1): RNNDropout()\n",
              "), Sequential(\n",
              "  (0): WeightDropout(\n",
              "    (module): LSTM(1152, 1152, batch_first=True)\n",
              "  )\n",
              "  (1): RNNDropout()\n",
              "), Sequential(\n",
              "  (0): WeightDropout(\n",
              "    (module): LSTM(1152, 400, batch_first=True)\n",
              "  )\n",
              "  (1): RNNDropout()\n",
              "), Sequential(\n",
              "  (0): PoolingLinearClassifier(\n",
              "    (layers): Sequential(\n",
              "      (0): BatchNorm1d(1200, eps=1e-05, momentum=0.1, affine=True, track_running_stats=True)\n",
              "      (1): Dropout(p=0.2, inplace=False)\n",
              "      (2): Linear(in_features=1200, out_features=50, bias=True)\n",
              "      (3): ReLU(inplace=True)\n",
              "      (4): BatchNorm1d(50, eps=1e-05, momentum=0.1, affine=True, track_running_stats=True)\n",
              "      (5): Dropout(p=0.1, inplace=False)\n",
              "      (6): Linear(in_features=50, out_features=3, bias=True)\n",
              "    )\n",
              "  )\n",
              ")], add_time=True, silent=False)"
            ]
          },
          "metadata": {
            "tags": []
          },
          "execution_count": 215
        }
      ]
    },
    {
      "cell_type": "code",
      "metadata": {
        "id": "j21w5lcikODi",
        "colab_type": "code",
        "colab": {
          "base_uri": "https://localhost:8080/",
          "height": 663
        },
        "outputId": "e5ae2baf-77c8-4d7e-d8ca-c12e937c1aba"
      },
      "source": [
        "tweet_model.model"
      ],
      "execution_count": null,
      "outputs": [
        {
          "output_type": "execute_result",
          "data": {
            "text/plain": [
              "SequentialRNN(\n",
              "  (0): MultiBatchEncoder(\n",
              "    (module): AWD_LSTM(\n",
              "      (encoder): Embedding(5896, 400, padding_idx=1)\n",
              "      (encoder_dp): EmbeddingDropout(\n",
              "        (emb): Embedding(5896, 400, padding_idx=1)\n",
              "      )\n",
              "      (rnns): ModuleList(\n",
              "        (0): WeightDropout(\n",
              "          (module): LSTM(400, 1152, batch_first=True)\n",
              "        )\n",
              "        (1): WeightDropout(\n",
              "          (module): LSTM(1152, 1152, batch_first=True)\n",
              "        )\n",
              "        (2): WeightDropout(\n",
              "          (module): LSTM(1152, 400, batch_first=True)\n",
              "        )\n",
              "      )\n",
              "      (input_dp): RNNDropout()\n",
              "      (hidden_dps): ModuleList(\n",
              "        (0): RNNDropout()\n",
              "        (1): RNNDropout()\n",
              "        (2): RNNDropout()\n",
              "      )\n",
              "    )\n",
              "  )\n",
              "  (1): PoolingLinearClassifier(\n",
              "    (layers): Sequential(\n",
              "      (0): BatchNorm1d(1200, eps=1e-05, momentum=0.1, affine=True, track_running_stats=True)\n",
              "      (1): Dropout(p=0.2, inplace=False)\n",
              "      (2): Linear(in_features=1200, out_features=50, bias=True)\n",
              "      (3): ReLU(inplace=True)\n",
              "      (4): BatchNorm1d(50, eps=1e-05, momentum=0.1, affine=True, track_running_stats=True)\n",
              "      (5): Dropout(p=0.1, inplace=False)\n",
              "      (6): Linear(in_features=50, out_features=3, bias=True)\n",
              "    )\n",
              "  )\n",
              ")"
            ]
          },
          "metadata": {
            "tags": []
          },
          "execution_count": 216
        }
      ]
    },
    {
      "cell_type": "markdown",
      "metadata": {
        "id": "rP6urV6SX7kS",
        "colab_type": "text"
      },
      "source": [
        "### Gradual Unfreezing"
      ]
    },
    {
      "cell_type": "markdown",
      "metadata": {
        "id": "Ig12JCesPF6k",
        "colab_type": "text"
      },
      "source": [
        "Gradual Unfreezing is the process to unfreeze the last layers as it contains the most general information. After fine-tuning unfrozen layers for one epoch, we go for the next lower layer and repeat until we complete all layers until convergence last iteration.\n",
        "\n",
        "We will unfreeze and train layers of our model one by one from top to bottom, which means from the last layer to inner layers. This is done to prevent the model from forgetting the features."
      ]
    },
    {
      "cell_type": "code",
      "metadata": {
        "id": "bppGycBXYCQr",
        "colab_type": "code",
        "colab": {
          "base_uri": "https://localhost:8080/",
          "height": 112
        },
        "outputId": "d4e14e30-3384-4064-9e82-30f4d2fba9a0"
      },
      "source": [
        "tweet_model.lr_find()"
      ],
      "execution_count": null,
      "outputs": [
        {
          "output_type": "display_data",
          "data": {
            "text/html": [
              "\n",
              "    <div>\n",
              "        <style>\n",
              "            /* Turns off some styling */\n",
              "            progress {\n",
              "                /* gets rid of default border in Firefox and Opera. */\n",
              "                border: none;\n",
              "                /* Needs to be in here for Safari polyfill so background images work as expected. */\n",
              "                background-size: auto;\n",
              "            }\n",
              "            .progress-bar-interrupted, .progress-bar-interrupted::-webkit-progress-bar {\n",
              "                background: #F44336;\n",
              "            }\n",
              "        </style>\n",
              "      <progress value='0' class='' max='1' style='width:300px; height:20px; vertical-align: middle;'></progress>\n",
              "      0.00% [0/1 00:00<00:00]\n",
              "    </div>\n",
              "    \n",
              "<table border=\"1\" class=\"dataframe\">\n",
              "  <thead>\n",
              "    <tr style=\"text-align: left;\">\n",
              "      <th>epoch</th>\n",
              "      <th>train_loss</th>\n",
              "      <th>valid_loss</th>\n",
              "      <th>accuracy</th>\n",
              "      <th>time</th>\n",
              "    </tr>\n",
              "  </thead>\n",
              "  <tbody>\n",
              "  </tbody>\n",
              "</table><p>\n",
              "\n",
              "    <div>\n",
              "        <style>\n",
              "            /* Turns off some styling */\n",
              "            progress {\n",
              "                /* gets rid of default border in Firefox and Opera. */\n",
              "                border: none;\n",
              "                /* Needs to be in here for Safari polyfill so background images work as expected. */\n",
              "                background-size: auto;\n",
              "            }\n",
              "            .progress-bar-interrupted, .progress-bar-interrupted::-webkit-progress-bar {\n",
              "                background: #F44336;\n",
              "            }\n",
              "        </style>\n",
              "      <progress value='93' class='' max='329' style='width:300px; height:20px; vertical-align: middle;'></progress>\n",
              "      28.27% [93/329 00:02<00:05 1.8703]\n",
              "    </div>\n",
              "    "
            ],
            "text/plain": [
              "<IPython.core.display.HTML object>"
            ]
          },
          "metadata": {
            "tags": []
          }
        },
        {
          "output_type": "stream",
          "text": [
            "LR Finder is complete, type {learner_name}.recorder.plot() to see the graph.\n"
          ],
          "name": "stdout"
        }
      ]
    },
    {
      "cell_type": "code",
      "metadata": {
        "id": "cfdOuPeJQU0j",
        "colab_type": "code",
        "colab": {
          "base_uri": "https://localhost:8080/",
          "height": 313
        },
        "outputId": "f8533b4b-f8bd-43a7-902d-bd156880c378"
      },
      "source": [
        "tweet_model.recorder.plot(show_grid=True, suggestion=True)"
      ],
      "execution_count": null,
      "outputs": [
        {
          "output_type": "stream",
          "text": [
            "Min numerical gradient: 5.25E-03\n",
            "Min loss divided by 10: 4.37E-02\n"
          ],
          "name": "stdout"
        },
        {
          "output_type": "display_data",
          "data": {
            "image/png": "[encoded data removed]",
            "text/plain": [
              "<Figure size 432x288 with 1 Axes>"
            ]
          },
          "metadata": {
            "tags": [],
            "needs_background": "light"
          }
        }
      ]
    },
    {
      "cell_type": "markdown",
      "metadata": {
        "id": "4KXG3PR-RzkL",
        "colab_type": "text"
      },
      "source": [
        "Similarly, how we did before, we choose a learning rate (optimized one) before the graph starts descending and reaches a minimum. Along with it, we will use the one cycle policy."
      ]
    },
    {
      "cell_type": "code",
      "metadata": {
        "id": "MCkTVjdQQ1G_",
        "colab_type": "code",
        "colab": {
          "base_uri": "https://localhost:8080/",
          "height": 204
        },
        "outputId": "6c380272-3d4d-4ff5-82ae-9d3d74fa9ecb"
      },
      "source": [
        "tweet_model.fit_one_cycle(5,5.25E-03,moms=(0.8,0.7))"
      ],
      "execution_count": null,
      "outputs": [
        {
          "output_type": "display_data",
          "data": {
            "text/html": [
              "<table border=\"1\" class=\"dataframe\">\n",
              "  <thead>\n",
              "    <tr style=\"text-align: left;\">\n",
              "      <th>epoch</th>\n",
              "      <th>train_loss</th>\n",
              "      <th>valid_loss</th>\n",
              "      <th>accuracy</th>\n",
              "      <th>time</th>\n",
              "    </tr>\n",
              "  </thead>\n",
              "  <tbody>\n",
              "    <tr>\n",
              "      <td>0</td>\n",
              "      <td>0.605307</td>\n",
              "      <td>0.520583</td>\n",
              "      <td>0.784901</td>\n",
              "      <td>00:07</td>\n",
              "    </tr>\n",
              "    <tr>\n",
              "      <td>1</td>\n",
              "      <td>0.589400</td>\n",
              "      <td>0.542774</td>\n",
              "      <td>0.783005</td>\n",
              "      <td>00:07</td>\n",
              "    </tr>\n",
              "    <tr>\n",
              "      <td>2</td>\n",
              "      <td>0.585993</td>\n",
              "      <td>0.513476</td>\n",
              "      <td>0.788316</td>\n",
              "      <td>00:07</td>\n",
              "    </tr>\n",
              "    <tr>\n",
              "      <td>3</td>\n",
              "      <td>0.607882</td>\n",
              "      <td>0.517270</td>\n",
              "      <td>0.781866</td>\n",
              "      <td>00:08</td>\n",
              "    </tr>\n",
              "    <tr>\n",
              "      <td>4</td>\n",
              "      <td>0.604852</td>\n",
              "      <td>0.510279</td>\n",
              "      <td>0.788316</td>\n",
              "      <td>00:08</td>\n",
              "    </tr>\n",
              "  </tbody>\n",
              "</table>"
            ],
            "text/plain": [
              "<IPython.core.display.HTML object>"
            ]
          },
          "metadata": {
            "tags": []
          }
        }
      ]
    },
    {
      "cell_type": "markdown",
      "metadata": {
        "id": "b4XfM-GCSSzs",
        "colab_type": "text"
      },
      "source": [
        "Now we will unfreeze the next layer."
      ]
    },
    {
      "cell_type": "code",
      "metadata": {
        "id": "lcV_Op-cSYDi",
        "colab_type": "code",
        "colab": {}
      },
      "source": [
        "tweet_model.freeze_to(-2)"
      ],
      "execution_count": null,
      "outputs": []
    },
    {
      "cell_type": "markdown",
      "metadata": {
        "id": "tPGZDSJKVzjR",
        "colab_type": "text"
      },
      "source": [
        "As different layers capture different types of information, they should be fine-tuned to varying extents. Instead of using the same learning rate for all layers of the model, discriminative fine-tuning helps us apply specific learning rates to different layers.\n",
        "\n",
        "Thus, we will then train with the next unfrozen layer and apply discriminative fine-tuning."
      ]
    },
    {
      "cell_type": "code",
      "metadata": {
        "id": "DzZHb8dVWM_n",
        "colab_type": "code",
        "colab": {
          "base_uri": "https://localhost:8080/",
          "height": 204
        },
        "outputId": "92affa96-f882-48ba-f765-8ce17fc5b390"
      },
      "source": [
        "tweet_model.fit_one_cycle(5,slice(5.25E-03/(2.6**4),5.25E-03))"
      ],
      "execution_count": null,
      "outputs": [
        {
          "output_type": "display_data",
          "data": {
            "text/html": [
              "<table border=\"1\" class=\"dataframe\">\n",
              "  <thead>\n",
              "    <tr style=\"text-align: left;\">\n",
              "      <th>epoch</th>\n",
              "      <th>train_loss</th>\n",
              "      <th>valid_loss</th>\n",
              "      <th>accuracy</th>\n",
              "      <th>time</th>\n",
              "    </tr>\n",
              "  </thead>\n",
              "  <tbody>\n",
              "    <tr>\n",
              "      <td>0</td>\n",
              "      <td>0.587133</td>\n",
              "      <td>0.495548</td>\n",
              "      <td>0.794385</td>\n",
              "      <td>00:09</td>\n",
              "    </tr>\n",
              "    <tr>\n",
              "      <td>1</td>\n",
              "      <td>0.551013</td>\n",
              "      <td>0.485977</td>\n",
              "      <td>0.812595</td>\n",
              "      <td>00:08</td>\n",
              "    </tr>\n",
              "    <tr>\n",
              "      <td>2</td>\n",
              "      <td>0.483074</td>\n",
              "      <td>0.490704</td>\n",
              "      <td>0.806904</td>\n",
              "      <td>00:09</td>\n",
              "    </tr>\n",
              "    <tr>\n",
              "      <td>3</td>\n",
              "      <td>0.412981</td>\n",
              "      <td>0.483046</td>\n",
              "      <td>0.811077</td>\n",
              "      <td>00:09</td>\n",
              "    </tr>\n",
              "    <tr>\n",
              "      <td>4</td>\n",
              "      <td>0.413093</td>\n",
              "      <td>0.477565</td>\n",
              "      <td>0.815630</td>\n",
              "      <td>00:09</td>\n",
              "    </tr>\n",
              "  </tbody>\n",
              "</table>"
            ],
            "text/plain": [
              "<IPython.core.display.HTML object>"
            ]
          },
          "metadata": {
            "tags": []
          }
        }
      ]
    },
    {
      "cell_type": "markdown",
      "metadata": {
        "id": "wkKXdnLxXfSx",
        "colab_type": "text"
      },
      "source": [
        "Now we will repeat the process with next layer."
      ]
    },
    {
      "cell_type": "code",
      "metadata": {
        "id": "27fZXuLIXkuM",
        "colab_type": "code",
        "colab": {
          "base_uri": "https://localhost:8080/",
          "height": 204
        },
        "outputId": "59288159-926e-485a-dff0-442654b0d697"
      },
      "source": [
        "tweet_model.freeze_to(-3)\n",
        "tweet_model.fit_one_cycle(5,slice(5.25E-03/(2.6**4),5.25E-03))"
      ],
      "execution_count": null,
      "outputs": [
        {
          "output_type": "display_data",
          "data": {
            "text/html": [
              "<table border=\"1\" class=\"dataframe\">\n",
              "  <thead>\n",
              "    <tr style=\"text-align: left;\">\n",
              "      <th>epoch</th>\n",
              "      <th>train_loss</th>\n",
              "      <th>valid_loss</th>\n",
              "      <th>accuracy</th>\n",
              "      <th>time</th>\n",
              "    </tr>\n",
              "  </thead>\n",
              "  <tbody>\n",
              "    <tr>\n",
              "      <td>0</td>\n",
              "      <td>0.428882</td>\n",
              "      <td>0.500166</td>\n",
              "      <td>0.801214</td>\n",
              "      <td>00:13</td>\n",
              "    </tr>\n",
              "    <tr>\n",
              "      <td>1</td>\n",
              "      <td>0.431213</td>\n",
              "      <td>0.472223</td>\n",
              "      <td>0.811457</td>\n",
              "      <td>00:15</td>\n",
              "    </tr>\n",
              "    <tr>\n",
              "      <td>2</td>\n",
              "      <td>0.324065</td>\n",
              "      <td>0.514988</td>\n",
              "      <td>0.813733</td>\n",
              "      <td>00:14</td>\n",
              "    </tr>\n",
              "    <tr>\n",
              "      <td>3</td>\n",
              "      <td>0.223403</td>\n",
              "      <td>0.584737</td>\n",
              "      <td>0.809939</td>\n",
              "      <td>00:14</td>\n",
              "    </tr>\n",
              "    <tr>\n",
              "      <td>4</td>\n",
              "      <td>0.162557</td>\n",
              "      <td>0.600649</td>\n",
              "      <td>0.807663</td>\n",
              "      <td>00:13</td>\n",
              "    </tr>\n",
              "  </tbody>\n",
              "</table>"
            ],
            "text/plain": [
              "<IPython.core.display.HTML object>"
            ]
          },
          "metadata": {
            "tags": []
          }
        }
      ]
    },
    {
      "cell_type": "markdown",
      "metadata": {
        "id": "IiFX6ZjsYC9W",
        "colab_type": "text"
      },
      "source": [
        "At this step we will unfreeze all the layers and repeate the process again."
      ]
    },
    {
      "cell_type": "code",
      "metadata": {
        "id": "ZPvI45g5YS-U",
        "colab_type": "code",
        "colab": {
          "base_uri": "https://localhost:8080/",
          "height": 204
        },
        "outputId": "bf2c2f37-2a1f-422a-bd03-4908fa9c94d8"
      },
      "source": [
        "tweet_model.unfreeze()\n",
        "tweet_model.fit_one_cycle(5,slice(5.25E-03/(2.6**4),5.25E-03))"
      ],
      "execution_count": null,
      "outputs": [
        {
          "output_type": "display_data",
          "data": {
            "text/html": [
              "<table border=\"1\" class=\"dataframe\">\n",
              "  <thead>\n",
              "    <tr style=\"text-align: left;\">\n",
              "      <th>epoch</th>\n",
              "      <th>train_loss</th>\n",
              "      <th>valid_loss</th>\n",
              "      <th>accuracy</th>\n",
              "      <th>time</th>\n",
              "    </tr>\n",
              "  </thead>\n",
              "  <tbody>\n",
              "    <tr>\n",
              "      <td>0</td>\n",
              "      <td>0.155368</td>\n",
              "      <td>0.660584</td>\n",
              "      <td>0.809560</td>\n",
              "      <td>00:18</td>\n",
              "    </tr>\n",
              "    <tr>\n",
              "      <td>1</td>\n",
              "      <td>0.205057</td>\n",
              "      <td>0.634501</td>\n",
              "      <td>0.809181</td>\n",
              "      <td>00:20</td>\n",
              "    </tr>\n",
              "    <tr>\n",
              "      <td>2</td>\n",
              "      <td>0.174063</td>\n",
              "      <td>0.638511</td>\n",
              "      <td>0.817147</td>\n",
              "      <td>00:19</td>\n",
              "    </tr>\n",
              "    <tr>\n",
              "      <td>3</td>\n",
              "      <td>0.125841</td>\n",
              "      <td>0.704197</td>\n",
              "      <td>0.814492</td>\n",
              "      <td>00:17</td>\n",
              "    </tr>\n",
              "    <tr>\n",
              "      <td>4</td>\n",
              "      <td>0.078393</td>\n",
              "      <td>0.695188</td>\n",
              "      <td>0.811457</td>\n",
              "      <td>00:19</td>\n",
              "    </tr>\n",
              "  </tbody>\n",
              "</table>"
            ],
            "text/plain": [
              "<IPython.core.display.HTML object>"
            ]
          },
          "metadata": {
            "tags": []
          }
        }
      ]
    },
    {
      "cell_type": "markdown",
      "metadata": {
        "id": "JT4u2S1_Y4WG",
        "colab_type": "text"
      },
      "source": [
        "## Part 3 - Prediction and Evaluating Model"
      ]
    },
    {
      "cell_type": "markdown",
      "metadata": {
        "id": "8GWlJChhY_ZI",
        "colab_type": "text"
      },
      "source": [
        "### Testing Set "
      ]
    },
    {
      "cell_type": "code",
      "metadata": {
        "id": "fG3RrwDXZEaS",
        "colab_type": "code",
        "colab": {
          "base_uri": "https://localhost:8080/",
          "height": 442
        },
        "outputId": "c27a8fdd-c6dc-424e-d0b2-2de256aca2a8"
      },
      "source": [
        "test = pd.read_csv('tweet_test.csv')\n",
        "print(test[['newtext','airline_sentiment']])\n",
        "test.head()"
      ],
      "execution_count": null,
      "outputs": [
        {
          "output_type": "stream",
          "text": [
            "                                                newtext airline_sentiment\n",
            "0     @USAirways How can I change without penalty an...           neutral\n",
            "1     @SouthwestAir I have been in contact and know ...           neutral\n",
            "2     @united your b737-800w  literally the smallest...          negative\n",
            "3     .@USAirways I rebooked myself - but Cancelled ...          negative\n",
            "4     @americanair never fails to disappoint. waitin...          negative\n",
            "...                                                 ...               ...\n",
            "1459  @AmericanAir are you kidding me?  No one answe...          negative\n",
            "1460  @united your airline is a joke. 1 person worki...          negative\n",
            "1461  @JetBlue just wondering if the website is havi...          negative\n",
            "1462  @SouthwestAir there really should not be guida...          negative\n",
            "1463  @AmericanAir is the situation at JFK this even...          negative\n",
            "\n",
            "[1464 rows x 2 columns]\n"
          ],
          "name": "stdout"
        },
        {
          "output_type": "execute_result",
          "data": {
            "text/html": [
              "<div>\n",
              "<style scoped>\n",
              "    .dataframe tbody tr th:only-of-type {\n",
              "        vertical-align: middle;\n",
              "    }\n",
              "\n",
              "    .dataframe tbody tr th {\n",
              "        vertical-align: top;\n",
              "    }\n",
              "\n",
              "    .dataframe thead th {\n",
              "        text-align: right;\n",
              "    }\n",
              "</style>\n",
              "<table border=\"1\" class=\"dataframe\">\n",
              "  <thead>\n",
              "    <tr style=\"text-align: right;\">\n",
              "      <th></th>\n",
              "      <th>Unnamed: 0</th>\n",
              "      <th>newtext</th>\n",
              "      <th>airline_sentiment</th>\n",
              "    </tr>\n",
              "  </thead>\n",
              "  <tbody>\n",
              "    <tr>\n",
              "      <th>0</th>\n",
              "      <td>11823</td>\n",
              "      <td>@USAirways How can I change without penalty an...</td>\n",
              "      <td>neutral</td>\n",
              "    </tr>\n",
              "    <tr>\n",
              "      <th>1</th>\n",
              "      <td>6481</td>\n",
              "      <td>@SouthwestAir I have been in contact and know ...</td>\n",
              "      <td>neutral</td>\n",
              "    </tr>\n",
              "    <tr>\n",
              "      <th>2</th>\n",
              "      <td>1679</td>\n",
              "      <td>@united your b737-800w  literally the smallest...</td>\n",
              "      <td>negative</td>\n",
              "    </tr>\n",
              "    <tr>\n",
              "      <th>3</th>\n",
              "      <td>10969</td>\n",
              "      <td>.@USAirways I rebooked myself - but Cancelled ...</td>\n",
              "      <td>negative</td>\n",
              "    </tr>\n",
              "    <tr>\n",
              "      <th>4</th>\n",
              "      <td>14286</td>\n",
              "      <td>@americanair never fails to disappoint. waitin...</td>\n",
              "      <td>negative</td>\n",
              "    </tr>\n",
              "  </tbody>\n",
              "</table>\n",
              "</div>"
            ],
            "text/plain": [
              "   Unnamed: 0  ... airline_sentiment\n",
              "0       11823  ...           neutral\n",
              "1        6481  ...           neutral\n",
              "2        1679  ...          negative\n",
              "3       10969  ...          negative\n",
              "4       14286  ...          negative\n",
              "\n",
              "[5 rows x 3 columns]"
            ]
          },
          "metadata": {
            "tags": []
          },
          "execution_count": 226
        }
      ]
    },
    {
      "cell_type": "markdown",
      "metadata": {
        "id": "ucyFrYoO8rND",
        "colab_type": "text"
      },
      "source": [
        "### Predicting the Tweets"
      ]
    },
    {
      "cell_type": "markdown",
      "metadata": {
        "id": "5EU5zp93eLCX",
        "colab_type": "text"
      },
      "source": [
        "Now we will add a new column with the predicted values on 'test' which is the Test set "
      ]
    },
    {
      "cell_type": "code",
      "metadata": {
        "id": "r-dlrmetegCh",
        "colab_type": "code",
        "colab": {}
      },
      "source": [
        "test['airline_senti_pred'] = test['newtext'].apply(lambda row:str(tweet_model.predict(row)[0]))"
      ],
      "execution_count": null,
      "outputs": []
    },
    {
      "cell_type": "markdown",
      "metadata": {
        "id": "6PtagaA-fwIT",
        "colab_type": "text"
      },
      "source": [
        "We will print the accuracy of each row against the corresponding test set"
      ]
    },
    {
      "cell_type": "code",
      "metadata": {
        "id": "yCf_-7a5gmBW",
        "colab_type": "code",
        "colab": {}
      },
      "source": [
        "from sklearn.metrics import accuracy_score\n",
        "from sklearn.metrics import confusion_matrix"
      ],
      "execution_count": null,
      "outputs": []
    },
    {
      "cell_type": "code",
      "metadata": {
        "id": "boAyO_5HgPuM",
        "colab_type": "code",
        "colab": {
          "base_uri": "https://localhost:8080/",
          "height": 34
        },
        "outputId": "d99df4df-506a-4661-85f8-7023e7f846f5"
      },
      "source": [
        "print(\"Accuracy of Model: {}\".format(accuracy_score(test['airline_sentiment'],test[\n",
        "    'airline_senti_pred'])))"
      ],
      "execution_count": null,
      "outputs": [
        {
          "output_type": "stream",
          "text": [
            "Accuracy of Model: 0.8258196721311475\n"
          ],
          "name": "stdout"
        }
      ]
    },
    {
      "cell_type": "markdown",
      "metadata": {
        "id": "_4GnZK__9oyC",
        "colab_type": "text"
      },
      "source": [
        "### Plotting Confusion Matrix"
      ]
    },
    {
      "cell_type": "markdown",
      "metadata": {
        "id": "O3xyeAOP9DME",
        "colab_type": "text"
      },
      "source": [
        "Now we will plot the Confusion matrix for the Test set using the confusion_matrix class imported from sklearn.metrics."
      ]
    },
    {
      "cell_type": "code",
      "metadata": {
        "id": "IWOKK8aHipoW",
        "colab_type": "code",
        "colab": {
          "base_uri": "https://localhost:8080/",
          "height": 68
        },
        "outputId": "1121a32b-8d91-48ae-d911-92b31c927337"
      },
      "source": [
        "from sklearn.metrics import confusion_matrix\n",
        "cf_matrix = confusion_matrix(test['airline_sentiment'], test['airline_senti_pred'])\n",
        "print(cf_matrix)"
      ],
      "execution_count": null,
      "outputs": [
        {
          "output_type": "stream",
          "text": [
            "[[829  51  22]\n",
            " [100 212  24]\n",
            " [ 40  18 168]]\n"
          ],
          "name": "stdout"
        }
      ]
    },
    {
      "cell_type": "markdown",
      "metadata": {
        "id": "B3BozxURZM0j",
        "colab_type": "text"
      },
      "source": [
        "## Part 4 - Conclusion"
      ]
    },
    {
      "cell_type": "markdown",
      "metadata": {
        "id": "hBnAtO7IZePq",
        "colab_type": "text"
      },
      "source": [
        "After analyzing all the different learning rates and methods we used, the Accuracy that we got was 0.825\n",
        "Language modeling can be viewed as the ideal source for NLP, as it encompasses many aspects of language, such as long-term interactions, hierarchical relationships, and sentiments. It provides data in almost unlimited quantities for most domains and languages.\n",
        "As evident from the gradual unfreezing, upon increasing the count of the unfrozen layer per epoch, the validation loss was increasing, which could result in overfitting the model. The best case we obtained was with two layers unfrozen because, in that case, both the validation loss and the training loss was considerably less.\n",
        "\n",
        "Future Improvements:\n",
        "1. Since the data is a bit imbalanced (Skewed towards Negative tweets), Accuracy cannot be the best way to evaluate the model for the long run. We also need to use Precision, Recall, and F1 Score.\n",
        "2. More exploration of Discriminative Fine-Tuning could be undoubtedly valuable to achieve more reliable and better results.\n",
        "3. It's not immediately clear what the common thread that led to the mislabeling of specific tweets but possible causes includes missing signs from hashtags, non-grammatical sentences, or misspellings that commonly contribute to the classification error.\n",
        "4. It could be beneficial to allocate more time to Feature Engineering and fit the Language Model to match the vocabulary and language style in tweets better."
      ]
    }
  ]
}